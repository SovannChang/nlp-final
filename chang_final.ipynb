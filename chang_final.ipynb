{
 "cells": [
  {
   "cell_type": "markdown",
   "id": "6f3a1350",
   "metadata": {},
   "source": [
    "<h1 style=\"text-align: center; font-size: 30px;\">HAM vs. SPAM Classification</h1>"
   ]
  },
  {
   "cell_type": "markdown",
   "id": "28e85785",
   "metadata": {},
   "source": [
    "<center><img src=\"https://miro.medium.com/v2/resize:fit:1105/1*nBgCTU_hAVG00eYkcRf6Mw.png\" align=\"center\" alt=\"Ham vs. Spam filtering image\" style=\"width: 800px;\"/><center>"
   ]
  },
  {
   "cell_type": "markdown",
   "id": "878e37f6",
   "metadata": {},
   "source": [
    "\n",
    "<h1 style=\"text-align: center; font-size: 10px;\">https://miro.medium.com/v2/resize:fit:1105/1*nBgCTU_hAVG00eYkcRf6Mw.png</h1>"
   ]
  },
  {
   "cell_type": "markdown",
   "id": "f78adac1",
   "metadata": {},
   "source": [
    "### Using TF-IDF to assist with classifying emails\n",
    "Sovann Chang"
   ]
  },
  {
   "cell_type": "markdown",
   "id": "d5b69818",
   "metadata": {},
   "source": [
    "## Background"
   ]
  },
  {
   "cell_type": "markdown",
   "id": "dbbb5cb0",
   "metadata": {},
   "source": [
    "Ask anyone who actively uses email or texts how they feel about spam, and you are almost guaranteed to get a negative response every time. At its _best_, spam is a mild annoyance, cluttering up our inboxes and messages with useless garbage. At its worst, spam can lure in the vulnerable with enticing promises that mask the presence of a malicious scam. "
   ]
  },
  {
   "cell_type": "markdown",
   "id": "2d7652b0",
   "metadata": {},
   "source": [
    "The very first spam email was sent in 1978, but the development of the internet in the 1990s is when spam really began to become common (1). 30 years later, spam has became so prevalent that our emails and messaging apps have filters to keep spam out. With the rise of generative AI models, spam and phishing emails seem set to become even more common and more difficult to identify (2). With this in mind, detecting spam will be even more important, and our methods for doing so will need to be sound."
   ]
  },
  {
   "cell_type": "markdown",
   "id": "dbb2fe86",
   "metadata": {},
   "source": [
    "So how do we distinguish spam emails from regular, or \"ham\", emails? As humans, there are many ways for us to visually identify spam, but most of them are easily countered by spammers who ensure that their emails look as normal as possile. When emails are passable visibly, all we have to work with is text. Any good automatic spam filter will need to parse the text of an email to determine its validity. It will need to learn to identify patterns in the text that are indicative of spam. The simplest form of this is to find words that are often used in spam emails but rarely used in legitimate emails. Luckily, there is a way to estimate this intangible quality for an individual word. "
   ]
  },
  {
   "cell_type": "markdown",
   "id": "beb6eba8",
   "metadata": {},
   "source": [
    "#### TF-IDF"
   ]
  },
  {
   "cell_type": "markdown",
   "id": "25b151e1",
   "metadata": {},
   "source": [
    "Term Frequency-Inverse Document Frequency, or TF-IDF, is a combination of two different measurements. Term Frequency represents how often a term appears in a document, calculated as the number of times a term appears divided by the number of terms in the document. Document Frequency is a representation of how common a term is in an entire corpus, calculated by dividing the number of documents in which the term appears by the total number of documents in the corpus. _Inverse_ Document Frequency is, in a sense, its opposite. It can be thought of as \"How unique is this term to this document?\", and is calculated by taking the reciprocal (numerator and denominator swap places) of Document Frequency and taking the natural log of the result. The Term Frequency and Inverse Document Frequency are then multiplied to yield TF-IDF."
   ]
  },
  {
   "cell_type": "markdown",
   "id": "485252a7",
   "metadata": {},
   "source": [
    "Conceptually, this produces a combination of \"How important is this word to this document?\" and \"How unique is this word to this document?\". If a word is both fairly important and relatively unique to multiple spam documents, it is a good indicator of spam. For this reason, TF-IDF is a common method for spam detection."
   ]
  },
  {
   "cell_type": "markdown",
   "id": "49da12df",
   "metadata": {},
   "source": [
    "We want to test the efficacy of TF-IDF on our dataset. Naturally, our first research question is as follows: **Can we train a logistic regression model to accurately classify spam emails using _only_ TF-IDF data?**"
   ]
  },
  {
   "cell_type": "markdown",
   "id": "988e5f86",
   "metadata": {},
   "source": [
    "Our hypothesis is that we can do this, given that TF-IDF is commonly used as a part of classification. We believe that it will be sufficient to stand on its own."
   ]
  },
  {
   "cell_type": "code",
   "execution_count": 1,
   "id": "9d1a89cd",
   "metadata": {},
   "outputs": [],
   "source": [
    "# Import data manipulation, plotting, and NLP packages\n",
    "import pandas as pd\n",
    "import numpy as np\n",
    "import spacy\n",
    "import matplotlib.pyplot as plt\n",
    "import seaborn as sns\n",
    "from collections import Counter\n",
    "import nltk\n",
    "from nltk.corpus import wordnet as wn\n",
    "from nltk.corpus import words\n",
    "import time"
   ]
  },
  {
   "cell_type": "code",
   "execution_count": 21,
   "id": "9967508b",
   "metadata": {},
   "outputs": [],
   "source": [
    "# Import modeling packages\n",
    "from sklearn.compose import ColumnTransformer\n",
    "from sklearn.preprocessing import FunctionTransformer\n",
    "from sklearn.feature_extraction.text import TfidfVectorizer\n",
    "from spacy.lang.en.stop_words import STOP_WORDS\n",
    "from sklearn.linear_model import LogisticRegression\n",
    "from sklearn.model_selection import train_test_split\n",
    "from sklearn import metrics"
   ]
  },
  {
   "cell_type": "markdown",
   "id": "93c8a5be",
   "metadata": {},
   "source": [
    "When our data ready to be analyzed, we will use the spaCy package to process it."
   ]
  },
  {
   "cell_type": "code",
   "execution_count": 2,
   "id": "33a23513",
   "metadata": {},
   "outputs": [],
   "source": [
    "nlp = spacy.load(\"en_core_web_sm\")"
   ]
  },
  {
   "cell_type": "markdown",
   "id": "9f83ed85",
   "metadata": {},
   "source": [
    "## Data"
   ]
  },
  {
   "cell_type": "markdown",
   "id": "11e05240",
   "metadata": {},
   "source": [
    "The sample emails being used for this analysis are taken from a [Kaggle dataset](https://www.kaggle.com/datasets/meruvulikith/190k-spam-ham-email-dataset-for-classification/data) containing nearly 194,000 total ham and spam emails. The dataset is relatively clean and simple, containing just two variables: the text of the email and the spam/ham label. The author describes the dataset as a combination of multiple other datasets, although they do not list the other datasets. While we acknowledge that it is plausible that this data is substandard, emails come in all shapes and sizes, so most samples of emails can still be useful, even if they are not wholly representative of all emails."
   ]
  },
  {
   "cell_type": "code",
   "execution_count": 3,
   "id": "a3118ea7",
   "metadata": {
    "scrolled": false
   },
   "outputs": [
    {
     "data": {
      "text/html": [
       "<div>\n",
       "<style scoped>\n",
       "    .dataframe tbody tr th:only-of-type {\n",
       "        vertical-align: middle;\n",
       "    }\n",
       "\n",
       "    .dataframe tbody tr th {\n",
       "        vertical-align: top;\n",
       "    }\n",
       "\n",
       "    .dataframe thead th {\n",
       "        text-align: right;\n",
       "    }\n",
       "</style>\n",
       "<table border=\"1\" class=\"dataframe\">\n",
       "  <thead>\n",
       "    <tr style=\"text-align: right;\">\n",
       "      <th></th>\n",
       "      <th>label</th>\n",
       "      <th>text</th>\n",
       "    </tr>\n",
       "  </thead>\n",
       "  <tbody>\n",
       "    <tr>\n",
       "      <th>0</th>\n",
       "      <td>Spam</td>\n",
       "      <td>viiiiiiagraaaa\\nonly for the ones that want to...</td>\n",
       "    </tr>\n",
       "    <tr>\n",
       "      <th>1</th>\n",
       "      <td>Ham</td>\n",
       "      <td>got ice thought look az original message ice o...</td>\n",
       "    </tr>\n",
       "    <tr>\n",
       "      <th>2</th>\n",
       "      <td>Spam</td>\n",
       "      <td>yo ur wom an ne eds an escapenumber in ch ma n...</td>\n",
       "    </tr>\n",
       "    <tr>\n",
       "      <th>3</th>\n",
       "      <td>Spam</td>\n",
       "      <td>start increasing your odds of success &amp; live s...</td>\n",
       "    </tr>\n",
       "    <tr>\n",
       "      <th>4</th>\n",
       "      <td>Ham</td>\n",
       "      <td>author jra date escapenumber escapenumber esca...</td>\n",
       "    </tr>\n",
       "    <tr>\n",
       "      <th>...</th>\n",
       "      <td>...</td>\n",
       "      <td>...</td>\n",
       "    </tr>\n",
       "    <tr>\n",
       "      <th>193845</th>\n",
       "      <td>Ham</td>\n",
       "      <td>on escapenumber escapenumber escapenumber rob ...</td>\n",
       "    </tr>\n",
       "    <tr>\n",
       "      <th>193846</th>\n",
       "      <td>Spam</td>\n",
       "      <td>we have everything you need escapelong cialesc...</td>\n",
       "    </tr>\n",
       "    <tr>\n",
       "      <th>193847</th>\n",
       "      <td>Ham</td>\n",
       "      <td>hi quick question say i have a date variable i...</td>\n",
       "    </tr>\n",
       "    <tr>\n",
       "      <th>193848</th>\n",
       "      <td>Spam</td>\n",
       "      <td>thank you for your loan request which we recie...</td>\n",
       "    </tr>\n",
       "    <tr>\n",
       "      <th>193849</th>\n",
       "      <td>Ham</td>\n",
       "      <td>this is an automatically generated delivery st...</td>\n",
       "    </tr>\n",
       "  </tbody>\n",
       "</table>\n",
       "<p>193850 rows × 2 columns</p>\n",
       "</div>"
      ],
      "text/plain": [
       "       label                                               text\n",
       "0       Spam  viiiiiiagraaaa\\nonly for the ones that want to...\n",
       "1        Ham  got ice thought look az original message ice o...\n",
       "2       Spam  yo ur wom an ne eds an escapenumber in ch ma n...\n",
       "3       Spam  start increasing your odds of success & live s...\n",
       "4        Ham  author jra date escapenumber escapenumber esca...\n",
       "...      ...                                                ...\n",
       "193845   Ham  on escapenumber escapenumber escapenumber rob ...\n",
       "193846  Spam  we have everything you need escapelong cialesc...\n",
       "193847   Ham  hi quick question say i have a date variable i...\n",
       "193848  Spam  thank you for your loan request which we recie...\n",
       "193849   Ham  this is an automatically generated delivery st...\n",
       "\n",
       "[193850 rows x 2 columns]"
      ]
     },
     "execution_count": 3,
     "metadata": {},
     "output_type": "execute_result"
    }
   ],
   "source": [
    "emails = pd.read_csv(\"spam_Emails_data.csv\").dropna().reset_index(drop=True)\n",
    "emails"
   ]
  },
  {
   "cell_type": "code",
   "execution_count": 4,
   "id": "d917c4b6",
   "metadata": {
    "scrolled": true
   },
   "outputs": [
    {
     "data": {
      "text/plain": [
       "\"hi quick question say i have a date variable in a data frame or matrix and i'd like to preserve the date format when using write table however when i export the data i get the generic number underlying the date not the date per se and a number such as escapenumber escapenumber etc are not meaningful in excel is there any way i can preserve the format of a date on writing into a text file tia and best tir r help stat math ethz ch mailing list https stat ethz ch mailman listinfo r help please do read the posting guide http www r project org posting guide html and provide commented minimal self contained reproducible code \""
      ]
     },
     "execution_count": 4,
     "metadata": {},
     "output_type": "execute_result"
    }
   ],
   "source": [
    "emails.text[193847]"
   ]
  },
  {
   "cell_type": "markdown",
   "id": "8d7bc37c",
   "metadata": {},
   "source": [
    "After loading the data and examining a specific example, we notice a problem: some of the words in the emails were clearly not written by the sender. For example, \"escapenumber\" and \"elem\" sound like HTML or JavaScript tags for objects, which may be a text rendering of some visual aspect of the email. We may want to clean this, but we must first identify how common these invalid words are. We can use a Python Counter to retrieve a count of how many times each term appears throughout the corpus."
   ]
  },
  {
   "cell_type": "markdown",
   "id": "1ab94210",
   "metadata": {},
   "source": [
    "## Data Exploration and Cleaning"
   ]
  },
  {
   "cell_type": "code",
   "execution_count": 5,
   "id": "1d797b71",
   "metadata": {},
   "outputs": [],
   "source": [
    "word_counts = Counter()\n",
    "\n",
    "for email in emails.text:\n",
    "    words_in_email = email.split()\n",
    "    word_counts.update(words_in_email)"
   ]
  },
  {
   "cell_type": "code",
   "execution_count": 154,
   "id": "a3c9d212",
   "metadata": {},
   "outputs": [
    {
     "data": {
      "text/plain": [
       "[('escapenumber', 3294103),\n",
       " ('the', 1299658),\n",
       " ('to', 892867),\n",
       " ('and', 657209),\n",
       " ('of', 619981),\n",
       " ('a', 546982),\n",
       " ('.', 452740),\n",
       " ('in', 448771),\n",
       " ('escapelong', 444599),\n",
       " ('-', 372678),\n",
       " ('for', 343997),\n",
       " (',', 334340),\n",
       " ('you', 316529),\n",
       " ('is', 316476),\n",
       " ('i', 257310),\n",
       " ('com', 256158),\n",
       " ('this', 248675),\n",
       " ('that', 246196),\n",
       " ('on', 245475),\n",
       " ('with', 197490),\n",
       " ('be', 195460),\n",
       " ('from', 184798),\n",
       " ('http', 184055),\n",
       " ('enron', 181720),\n",
       " ('it', 173581),\n",
       " ('your', 170912),\n",
       " ('as', 167220),\n",
       " ('/', 158525),\n",
       " ('or', 156814),\n",
       " ('are', 155071),\n",
       " ('have', 152009),\n",
       " ('at', 147812),\n",
       " (':', 146499),\n",
       " ('we', 138485),\n",
       " ('will', 136883),\n",
       " ('not', 136395),\n",
       " ('by', 133562),\n",
       " ('e', 124857),\n",
       " ('if', 116782),\n",
       " ('cescapenumber', 114879)]"
      ]
     },
     "execution_count": 154,
     "metadata": {},
     "output_type": "execute_result"
    }
   ],
   "source": [
    "word_counts.most_common(40)"
   ]
  },
  {
   "cell_type": "markdown",
   "id": "35b110dc",
   "metadata": {},
   "source": [
    "Indeed, some very common \"words\" are clearly not actual words. \"escapenumber\" is nearly three times as common as any other term, and \"escapelong\" and \"cescapenumber\" also are present in the top 40. How can we filter these terms out? The nltk package gives us some options. It contains two packages that may help us here. wordnet was created by Princeton, and is a large lexical database of English nouns, verbs, adjectives, and adverbs (3). nltk.corpus contains \"words\", a standard dictionary of words recognized by Unix systems (4). "
   ]
  },
  {
   "cell_type": "code",
   "execution_count": 7,
   "id": "5b6f973f",
   "metadata": {
    "scrolled": false
   },
   "outputs": [
    {
     "name": "stderr",
     "output_type": "stream",
     "text": [
      "[nltk_data] Downloading package wordnet to\n",
      "[nltk_data]     C:\\Users\\Sovann\\AppData\\Roaming\\nltk_data...\n",
      "[nltk_data]   Package wordnet is already up-to-date!\n",
      "[nltk_data] Downloading package words to\n",
      "[nltk_data]     C:\\Users\\Sovann\\AppData\\Roaming\\nltk_data...\n",
      "[nltk_data]   Package words is already up-to-date!\n"
     ]
    },
    {
     "data": {
      "text/plain": [
       "True"
      ]
     },
     "execution_count": 7,
     "metadata": {},
     "output_type": "execute_result"
    }
   ],
   "source": [
    "nltk.download('wordnet')\n",
    "nltk.download('words')"
   ]
  },
  {
   "cell_type": "code",
   "execution_count": 8,
   "id": "f41a00f9",
   "metadata": {},
   "outputs": [],
   "source": [
    "english_words = set(words.words())"
   ]
  },
  {
   "cell_type": "code",
   "execution_count": 162,
   "id": "67e62fe6",
   "metadata": {},
   "outputs": [
    {
     "data": {
      "text/plain": [
       "['unbalanceable', 'extrasomatic', 'indexed', 'semijudicial', 'helplessness']"
      ]
     },
     "execution_count": 162,
     "metadata": {},
     "output_type": "execute_result"
    }
   ],
   "source": [
    "list(english_words)[0:5]"
   ]
  },
  {
   "cell_type": "markdown",
   "id": "ee76766d",
   "metadata": {},
   "source": [
    "wordnet and Unix words are good for different things, as shown below. \"bible\" is recognized by wordnet but not the Unix words, while \"for\" is recognized by Unix but not wordnet. We can try combining the two to cover as many words as possible."
   ]
  },
  {
   "cell_type": "code",
   "execution_count": 10,
   "id": "9320055d",
   "metadata": {
    "scrolled": true
   },
   "outputs": [
    {
     "data": {
      "text/plain": [
       "[Synset('bible.n.01'), Synset('bible.n.02')]"
      ]
     },
     "execution_count": 10,
     "metadata": {},
     "output_type": "execute_result"
    }
   ],
   "source": [
    "wn.synsets(\"bible\")"
   ]
  },
  {
   "cell_type": "code",
   "execution_count": 11,
   "id": "f856ce87",
   "metadata": {},
   "outputs": [
    {
     "data": {
      "text/plain": [
       "False"
      ]
     },
     "execution_count": 11,
     "metadata": {},
     "output_type": "execute_result"
    }
   ],
   "source": [
    "\"bible\" in english_words"
   ]
  },
  {
   "cell_type": "code",
   "execution_count": 12,
   "id": "7602374a",
   "metadata": {},
   "outputs": [
    {
     "data": {
      "text/plain": [
       "[]"
      ]
     },
     "execution_count": 12,
     "metadata": {},
     "output_type": "execute_result"
    }
   ],
   "source": [
    "wn.synsets(\"for\")"
   ]
  },
  {
   "cell_type": "code",
   "execution_count": 13,
   "id": "8cf84462",
   "metadata": {},
   "outputs": [
    {
     "data": {
      "text/plain": [
       "True"
      ]
     },
     "execution_count": 13,
     "metadata": {},
     "output_type": "execute_result"
    }
   ],
   "source": [
    "\"for\" in english_words"
   ]
  },
  {
   "cell_type": "markdown",
   "id": "478a19ed",
   "metadata": {},
   "source": [
    "We test the combination of wordnet and Unix words by printing out the first 20 words that appear that are in neither set."
   ]
  },
  {
   "cell_type": "code",
   "execution_count": 164,
   "id": "7dbf86e3",
   "metadata": {
    "scrolled": true
   },
   "outputs": [
    {
     "name": "stdout",
     "output_type": "stream",
     "text": [
      "viiiiiiagraaaa\n",
      ".\n",
      "moiseyev\n",
      "bernie\n",
      "angeles\n",
      "gerry\n",
      "bayreuth\n",
      "tuttle\n",
      "itt\n",
      "caan\n",
      "'\n",
      "mailto\n",
      "iceoperations\n",
      "intcx\n",
      "com\n",
      "escapenumber\n",
      "escapelong\n",
      "intercontinentals\n",
      "wom\n",
      "ch\n"
     ]
    }
   ],
   "source": [
    "printed = 0\n",
    "for word, count in word_counts.items():\n",
    "    if not (word in english_words or wn.synsets(word)):\n",
    "        if printed < 20:\n",
    "            print(word)\n",
    "        printed += 1"
   ]
  },
  {
   "cell_type": "markdown",
   "id": "07c52e43",
   "metadata": {},
   "source": [
    "The combination seems to do a pretty good job. The only word out of the 20 that should probably be valid is Angeles, and that might only be invalid because of the lowercase 'a'. This brings up an interesting thought: misspelled words could themselves be a sign of spam. We may want to keep track of percentage of invalid words detected in each email to answer our second research question: **Can calculating the rate of misspelled or otherwise invalid words contribute to identifying spam?**"
   ]
  },
  {
   "cell_type": "markdown",
   "id": "06966e00",
   "metadata": {},
   "source": [
    "Our hypothesis for this research question is that a high rate of misspelled words will be a sign of a spam email, and that using this rate as a feature can positively affect a model's performance to a noticeable degree."
   ]
  },
  {
   "cell_type": "markdown",
   "id": "817176ef",
   "metadata": {},
   "source": [
    "We define a function in order to clean the data and extract the rates of these invalid words."
   ]
  },
  {
   "cell_type": "code",
   "execution_count": 15,
   "id": "19920e8f",
   "metadata": {},
   "outputs": [],
   "source": [
    "def clean_text(text, vocabulary):\n",
    "    # NLP limits text to 100K characters\n",
    "    if len(text) > 100000:\n",
    "        text = text[0:100000]\n",
    "        \n",
    "    word_list = text.split()\n",
    "    \n",
    "    invalid_words = 0\n",
    "    valid_words = []\n",
    "    \n",
    "    for word in word_list:\n",
    "        if word in vocabulary or wn.synsets(word):\n",
    "            valid_words.append(word)\n",
    "        else:\n",
    "            invalid_words += 1\n",
    "            \n",
    "    cleaned_text = ' '.join(valid_words)\n",
    "    return cleaned_text, invalid_words / len(word_list)"
   ]
  },
  {
   "cell_type": "code",
   "execution_count": 16,
   "id": "d22ac21c",
   "metadata": {},
   "outputs": [
    {
     "data": {
      "text/plain": [
       "('only for the ones that want to make her scream prodigy scrawny crow define upgrade spongy balboa dither schumann variegate ponce cox impassive circulate impend miscellany chalkboard whizzing pend armenian cutlet waring makeshift fletch dispel crest cadet dovetail rapprochement selectman wilmington alchemy bullyboy t do',\n",
       " 0.25)"
      ]
     },
     "execution_count": 16,
     "metadata": {},
     "output_type": "execute_result"
    }
   ],
   "source": [
    "clean_text(emails.loc[0, \"text\"], english_words)"
   ]
  },
  {
   "cell_type": "markdown",
   "id": "989ed63f",
   "metadata": {},
   "source": [
    "After timing a test run, NLP on the first 10,000 emails took more than 10 minutes. For the sake of ensuring that everything takes a reasonable amount of time, we'll randomly sample 20,000 of our emails (around 10% of the total emails in the dataset) and use that as our new dataset."
   ]
  },
  {
   "cell_type": "code",
   "execution_count": 17,
   "id": "271eb3ce",
   "metadata": {},
   "outputs": [
    {
     "data": {
      "text/html": [
       "<div>\n",
       "<style scoped>\n",
       "    .dataframe tbody tr th:only-of-type {\n",
       "        vertical-align: middle;\n",
       "    }\n",
       "\n",
       "    .dataframe tbody tr th {\n",
       "        vertical-align: top;\n",
       "    }\n",
       "\n",
       "    .dataframe thead th {\n",
       "        text-align: right;\n",
       "    }\n",
       "</style>\n",
       "<table border=\"1\" class=\"dataframe\">\n",
       "  <thead>\n",
       "    <tr style=\"text-align: right;\">\n",
       "      <th></th>\n",
       "      <th>label</th>\n",
       "      <th>text</th>\n",
       "    </tr>\n",
       "  </thead>\n",
       "  <tbody>\n",
       "    <tr>\n",
       "      <th>0</th>\n",
       "      <td>Ham</td>\n",
       "      <td>ets intranet consolidation project updates ( w...</td>\n",
       "    </tr>\n",
       "    <tr>\n",
       "      <th>1</th>\n",
       "      <td>Ham</td>\n",
       "      <td>article written tamim ansary afghani american ...</td>\n",
       "    </tr>\n",
       "    <tr>\n",
       "      <th>2</th>\n",
       "      <td>Ham</td>\n",
       "      <td>kevin attached electricity price discovery res...</td>\n",
       "    </tr>\n",
       "    <tr>\n",
       "      <th>3</th>\n",
       "      <td>Ham</td>\n",
       "      <td>cnat calm possible sir original message maggi ...</td>\n",
       "    </tr>\n",
       "    <tr>\n",
       "      <th>4</th>\n",
       "      <td>Ham</td>\n",
       "      <td>there are now two house hearnigs tomorrow not ...</td>\n",
       "    </tr>\n",
       "    <tr>\n",
       "      <th>...</th>\n",
       "      <td>...</td>\n",
       "      <td>...</td>\n",
       "    </tr>\n",
       "    <tr>\n",
       "      <th>19995</th>\n",
       "      <td>Spam</td>\n",
       "      <td>tramadol hydrochloride tablets help relieve di...</td>\n",
       "    </tr>\n",
       "    <tr>\n",
       "      <th>19996</th>\n",
       "      <td>Spam</td>\n",
       "      <td>access all the popular software imaginable for...</td>\n",
       "    </tr>\n",
       "    <tr>\n",
       "      <th>19997</th>\n",
       "      <td>Ham</td>\n",
       "      <td>see attached draft memo that outlines certain ...</td>\n",
       "    </tr>\n",
       "    <tr>\n",
       "      <th>19998</th>\n",
       "      <td>Spam</td>\n",
       "      <td>floor the physical mouth a advertisement be co...</td>\n",
       "    </tr>\n",
       "    <tr>\n",
       "      <th>19999</th>\n",
       "      <td>Spam</td>\n",
       "      <td>distant live suit figure all boy describe he t...</td>\n",
       "    </tr>\n",
       "  </tbody>\n",
       "</table>\n",
       "<p>20000 rows × 2 columns</p>\n",
       "</div>"
      ],
      "text/plain": [
       "      label                                               text\n",
       "0       Ham  ets intranet consolidation project updates ( w...\n",
       "1       Ham  article written tamim ansary afghani american ...\n",
       "2       Ham  kevin attached electricity price discovery res...\n",
       "3       Ham  cnat calm possible sir original message maggi ...\n",
       "4       Ham  there are now two house hearnigs tomorrow not ...\n",
       "...     ...                                                ...\n",
       "19995  Spam  tramadol hydrochloride tablets help relieve di...\n",
       "19996  Spam  access all the popular software imaginable for...\n",
       "19997   Ham  see attached draft memo that outlines certain ...\n",
       "19998  Spam  floor the physical mouth a advertisement be co...\n",
       "19999  Spam  distant live suit figure all boy describe he t...\n",
       "\n",
       "[20000 rows x 2 columns]"
      ]
     },
     "execution_count": 17,
     "metadata": {},
     "output_type": "execute_result"
    }
   ],
   "source": [
    "emails = emails.sample(n=20000, random_state=42).reset_index(drop=True)\n",
    "emails"
   ]
  },
  {
   "cell_type": "code",
   "execution_count": 18,
   "id": "838fc0b6",
   "metadata": {},
   "outputs": [
    {
     "data": {
      "text/plain": [
       "Ham     10429\n",
       "Spam     9571\n",
       "Name: label, dtype: int64"
      ]
     },
     "execution_count": 18,
     "metadata": {},
     "output_type": "execute_result"
    }
   ],
   "source": [
    "emails[\"label\"].value_counts()"
   ]
  },
  {
   "cell_type": "markdown",
   "id": "ca443d59",
   "metadata": {},
   "source": [
    "We have a fairly even split between ham and spam emails, with 52.1% ham and 47.9% spam. Now, we want to run our cleaning function on the dataframe and create new columns for cleaned text and invalid word percentage."
   ]
  },
  {
   "cell_type": "code",
   "execution_count": 19,
   "id": "22df2bca",
   "metadata": {},
   "outputs": [],
   "source": [
    "# Creating new columns for invalid word percentage and cleaned text\n",
    "emails[\"invalid_pct\"] = 0\n",
    "emails[\"cleaned_text\"] = \"\"\n",
    "\n",
    "# Running the clean_text function on each email and saving the output in the new columns\n",
    "for i in range(len(emails)):\n",
    "    email_text = emails.loc[i, \"text\"]\n",
    "    cleaned_text, invalid = clean_text(emails.loc[i, \"text\"], english_words)\n",
    "    \n",
    "    emails.loc[i, \"cleaned_text\"] = cleaned_text\n",
    "    emails.loc[i, \"invalid_pct\"] = invalid"
   ]
  },
  {
   "cell_type": "code",
   "execution_count": 20,
   "id": "62f46953",
   "metadata": {},
   "outputs": [
    {
     "data": {
      "text/html": [
       "<div>\n",
       "<style scoped>\n",
       "    .dataframe tbody tr th:only-of-type {\n",
       "        vertical-align: middle;\n",
       "    }\n",
       "\n",
       "    .dataframe tbody tr th {\n",
       "        vertical-align: top;\n",
       "    }\n",
       "\n",
       "    .dataframe thead th {\n",
       "        text-align: right;\n",
       "    }\n",
       "</style>\n",
       "<table border=\"1\" class=\"dataframe\">\n",
       "  <thead>\n",
       "    <tr style=\"text-align: right;\">\n",
       "      <th></th>\n",
       "      <th>cleaned_text</th>\n",
       "      <th>invalid_pct</th>\n",
       "      <th>label</th>\n",
       "    </tr>\n",
       "  </thead>\n",
       "  <tbody>\n",
       "    <tr>\n",
       "      <th>0</th>\n",
       "      <td>intranet consolidation project updates www wha...</td>\n",
       "      <td>0.377622</td>\n",
       "      <td>Ham</td>\n",
       "    </tr>\n",
       "    <tr>\n",
       "      <th>1</th>\n",
       "      <td>article written afghani american writer take a...</td>\n",
       "      <td>0.033557</td>\n",
       "      <td>Ham</td>\n",
       "    </tr>\n",
       "    <tr>\n",
       "      <th>2</th>\n",
       "      <td>attached electricity price discovery results f...</td>\n",
       "      <td>0.381818</td>\n",
       "      <td>Ham</td>\n",
       "    </tr>\n",
       "    <tr>\n",
       "      <th>3</th>\n",
       "      <td>calm possible sir original message mike sent t...</td>\n",
       "      <td>0.245283</td>\n",
       "      <td>Ham</td>\n",
       "    </tr>\n",
       "    <tr>\n",
       "      <th>4</th>\n",
       "      <td>there are now two house tomorrow not just one ...</td>\n",
       "      <td>0.101190</td>\n",
       "      <td>Ham</td>\n",
       "    </tr>\n",
       "    <tr>\n",
       "      <th>...</th>\n",
       "      <td>...</td>\n",
       "      <td>...</td>\n",
       "      <td>...</td>\n",
       "    </tr>\n",
       "    <tr>\n",
       "      <th>19995</th>\n",
       "      <td>hydrochloride tablets help relieve different t...</td>\n",
       "      <td>0.166667</td>\n",
       "      <td>Spam</td>\n",
       "    </tr>\n",
       "    <tr>\n",
       "      <th>19996</th>\n",
       "      <td>access all the popular software imaginable for...</td>\n",
       "      <td>0.349315</td>\n",
       "      <td>Spam</td>\n",
       "    </tr>\n",
       "    <tr>\n",
       "      <th>19997</th>\n",
       "      <td>see attached draft memo that outlines certain ...</td>\n",
       "      <td>0.424354</td>\n",
       "      <td>Ham</td>\n",
       "    </tr>\n",
       "    <tr>\n",
       "      <th>19998</th>\n",
       "      <td>floor the physical mouth a advertisement be co...</td>\n",
       "      <td>0.040268</td>\n",
       "      <td>Spam</td>\n",
       "    </tr>\n",
       "    <tr>\n",
       "      <th>19999</th>\n",
       "      <td>distant live suit figure all boy describe he t...</td>\n",
       "      <td>0.086420</td>\n",
       "      <td>Spam</td>\n",
       "    </tr>\n",
       "  </tbody>\n",
       "</table>\n",
       "<p>20000 rows × 3 columns</p>\n",
       "</div>"
      ],
      "text/plain": [
       "                                            cleaned_text  invalid_pct label\n",
       "0      intranet consolidation project updates www wha...     0.377622   Ham\n",
       "1      article written afghani american writer take a...     0.033557   Ham\n",
       "2      attached electricity price discovery results f...     0.381818   Ham\n",
       "3      calm possible sir original message mike sent t...     0.245283   Ham\n",
       "4      there are now two house tomorrow not just one ...     0.101190   Ham\n",
       "...                                                  ...          ...   ...\n",
       "19995  hydrochloride tablets help relieve different t...     0.166667  Spam\n",
       "19996  access all the popular software imaginable for...     0.349315  Spam\n",
       "19997  see attached draft memo that outlines certain ...     0.424354   Ham\n",
       "19998  floor the physical mouth a advertisement be co...     0.040268  Spam\n",
       "19999  distant live suit figure all boy describe he t...     0.086420  Spam\n",
       "\n",
       "[20000 rows x 3 columns]"
      ]
     },
     "execution_count": 20,
     "metadata": {},
     "output_type": "execute_result"
    }
   ],
   "source": [
    "cleaned_emails = emails[[\"cleaned_text\", \"invalid_pct\", \"label\"]]\n",
    "cleaned_emails"
   ]
  },
  {
   "cell_type": "markdown",
   "id": "ff69eea3",
   "metadata": {},
   "source": [
    "This will be used as our final data for analysis"
   ]
  },
  {
   "cell_type": "markdown",
   "id": "9dcd20e8",
   "metadata": {},
   "source": [
    "## NLP"
   ]
  },
  {
   "cell_type": "markdown",
   "id": "d28e8463",
   "metadata": {},
   "source": [
    "The first step in the analysis is to run NLP on the cleaned text. Because this will be slow, we have timed the process and printed the number of seconds that it took below."
   ]
  },
  {
   "cell_type": "code",
   "execution_count": 24,
   "id": "e17784ab",
   "metadata": {},
   "outputs": [
    {
     "data": {
      "text/plain": [
       "1095.389024734497"
      ]
     },
     "execution_count": 24,
     "metadata": {},
     "output_type": "execute_result"
    }
   ],
   "source": [
    "start = time.time()\n",
    "email_docs = list(nlp.pipe(cleaned_emails.cleaned_text))\n",
    "end = time.time()\n",
    "end - start"
   ]
  },
  {
   "cell_type": "markdown",
   "id": "1e93cc0c",
   "metadata": {},
   "source": [
    "After nearly 20 minutes, NLP is complete and we are ready for the next step."
   ]
  },
  {
   "cell_type": "markdown",
   "id": "c50b46c4",
   "metadata": {},
   "source": [
    "## Modeling"
   ]
  },
  {
   "cell_type": "markdown",
   "id": "18ca132d",
   "metadata": {},
   "source": [
    "We will be using the TfidfVectorizer function from sklearn.feature_extraction to perform TF-IDF. This function allows for a custom-defined tokenizer, which is where we will take advantage of our spaCy NLP representations. We first define a tokenizer that will remove periods and spaces from the text, then remove stop words. Stop words are words that are commonly used in English, but do not provide much information. Examples include determiners like \"the\" and \"a\" as well as prepositions like \"his\" and \"her\".They are removed from text before performing many NLP tasks because they can affect the outcome in ways that do not reflect reality. For example, if two texts are analyzed for similarity and both texts contain many of these stop words, they will likely be considered similar simply because they both use words like \"the\" or \"his\", even if the remainder of the content of the texts has nothing in common. Removing stop words is a standard practice in NLP (5)."
   ]
  },
  {
   "cell_type": "code",
   "execution_count": 25,
   "id": "fbeaa383",
   "metadata": {},
   "outputs": [],
   "source": [
    "stop_words = STOP_WORDS\n",
    "\n",
    "def tokenize_docs(doc):\n",
    "    tokens = [tok.lemma_.lower() for tok in doc if not tok.is_punct and not tok.is_space]\n",
    "    return [tok for tok in tokens if tok not in stop_words]"
   ]
  },
  {
   "cell_type": "markdown",
   "id": "0a985390",
   "metadata": {},
   "source": [
    "We are ready to define our TF-IDF vectorizer and fit it to the emails."
   ]
  },
  {
   "cell_type": "code",
   "execution_count": 122,
   "id": "335b5e92",
   "metadata": {},
   "outputs": [],
   "source": [
    "tfidf_vectorizer = TfidfVectorizer(tokenizer=tokenize_docs, token_pattern=None, lowercase=False, min_df=5)"
   ]
  },
  {
   "cell_type": "code",
   "execution_count": 123,
   "id": "0737a3af",
   "metadata": {},
   "outputs": [],
   "source": [
    "vec = tfidf_vectorizer.fit_transform(email_docs)"
   ]
  },
  {
   "cell_type": "markdown",
   "id": "36162b4b",
   "metadata": {},
   "source": [
    "Now that our vectorizer is fit to the data, we can extract the terms that are represented by each column and view the TF-IDF values for each word/document combination."
   ]
  },
  {
   "cell_type": "code",
   "execution_count": 124,
   "id": "4024c500",
   "metadata": {},
   "outputs": [
    {
     "data": {
      "text/html": [
       "<div>\n",
       "<style scoped>\n",
       "    .dataframe tbody tr th:only-of-type {\n",
       "        vertical-align: middle;\n",
       "    }\n",
       "\n",
       "    .dataframe tbody tr th {\n",
       "        vertical-align: top;\n",
       "    }\n",
       "\n",
       "    .dataframe thead th {\n",
       "        text-align: right;\n",
       "    }\n",
       "</style>\n",
       "<table border=\"1\" class=\"dataframe\">\n",
       "  <thead>\n",
       "    <tr style=\"text-align: right;\">\n",
       "      <th></th>\n",
       "      <th>0</th>\n",
       "      <th>1</th>\n",
       "      <th>10</th>\n",
       "      <th>100</th>\n",
       "      <th>1000</th>\n",
       "      <th>101</th>\n",
       "      <th>105</th>\n",
       "      <th>10th</th>\n",
       "      <th>11</th>\n",
       "      <th>110</th>\n",
       "      <th>...</th>\n",
       "      <th>zoloft</th>\n",
       "      <th>zombie</th>\n",
       "      <th>zonal</th>\n",
       "      <th>zone</th>\n",
       "      <th>zoo</th>\n",
       "      <th>zoom</th>\n",
       "      <th>zs</th>\n",
       "      <th>zu</th>\n",
       "      <th>zurich</th>\n",
       "      <th>ham_label</th>\n",
       "    </tr>\n",
       "  </thead>\n",
       "  <tbody>\n",
       "    <tr>\n",
       "      <th>0</th>\n",
       "      <td>0.0</td>\n",
       "      <td>0.05951</td>\n",
       "      <td>0.0</td>\n",
       "      <td>0.0</td>\n",
       "      <td>0.0</td>\n",
       "      <td>0.0</td>\n",
       "      <td>0.0</td>\n",
       "      <td>0.0</td>\n",
       "      <td>0.0</td>\n",
       "      <td>0.0</td>\n",
       "      <td>...</td>\n",
       "      <td>0.0</td>\n",
       "      <td>0.0</td>\n",
       "      <td>0.0</td>\n",
       "      <td>0.0</td>\n",
       "      <td>0.0</td>\n",
       "      <td>0.0</td>\n",
       "      <td>0.0</td>\n",
       "      <td>0.0</td>\n",
       "      <td>0.0</td>\n",
       "      <td>0</td>\n",
       "    </tr>\n",
       "    <tr>\n",
       "      <th>1</th>\n",
       "      <td>0.0</td>\n",
       "      <td>0.00000</td>\n",
       "      <td>0.0</td>\n",
       "      <td>0.0</td>\n",
       "      <td>0.0</td>\n",
       "      <td>0.0</td>\n",
       "      <td>0.0</td>\n",
       "      <td>0.0</td>\n",
       "      <td>0.0</td>\n",
       "      <td>0.0</td>\n",
       "      <td>...</td>\n",
       "      <td>0.0</td>\n",
       "      <td>0.0</td>\n",
       "      <td>0.0</td>\n",
       "      <td>0.0</td>\n",
       "      <td>0.0</td>\n",
       "      <td>0.0</td>\n",
       "      <td>0.0</td>\n",
       "      <td>0.0</td>\n",
       "      <td>0.0</td>\n",
       "      <td>0</td>\n",
       "    </tr>\n",
       "    <tr>\n",
       "      <th>2</th>\n",
       "      <td>0.0</td>\n",
       "      <td>0.00000</td>\n",
       "      <td>0.0</td>\n",
       "      <td>0.0</td>\n",
       "      <td>0.0</td>\n",
       "      <td>0.0</td>\n",
       "      <td>0.0</td>\n",
       "      <td>0.0</td>\n",
       "      <td>0.0</td>\n",
       "      <td>0.0</td>\n",
       "      <td>...</td>\n",
       "      <td>0.0</td>\n",
       "      <td>0.0</td>\n",
       "      <td>0.0</td>\n",
       "      <td>0.0</td>\n",
       "      <td>0.0</td>\n",
       "      <td>0.0</td>\n",
       "      <td>0.0</td>\n",
       "      <td>0.0</td>\n",
       "      <td>0.0</td>\n",
       "      <td>0</td>\n",
       "    </tr>\n",
       "    <tr>\n",
       "      <th>3</th>\n",
       "      <td>0.0</td>\n",
       "      <td>0.00000</td>\n",
       "      <td>0.0</td>\n",
       "      <td>0.0</td>\n",
       "      <td>0.0</td>\n",
       "      <td>0.0</td>\n",
       "      <td>0.0</td>\n",
       "      <td>0.0</td>\n",
       "      <td>0.0</td>\n",
       "      <td>0.0</td>\n",
       "      <td>...</td>\n",
       "      <td>0.0</td>\n",
       "      <td>0.0</td>\n",
       "      <td>0.0</td>\n",
       "      <td>0.0</td>\n",
       "      <td>0.0</td>\n",
       "      <td>0.0</td>\n",
       "      <td>0.0</td>\n",
       "      <td>0.0</td>\n",
       "      <td>0.0</td>\n",
       "      <td>0</td>\n",
       "    </tr>\n",
       "    <tr>\n",
       "      <th>4</th>\n",
       "      <td>0.0</td>\n",
       "      <td>0.00000</td>\n",
       "      <td>0.0</td>\n",
       "      <td>0.0</td>\n",
       "      <td>0.0</td>\n",
       "      <td>0.0</td>\n",
       "      <td>0.0</td>\n",
       "      <td>0.0</td>\n",
       "      <td>0.0</td>\n",
       "      <td>0.0</td>\n",
       "      <td>...</td>\n",
       "      <td>0.0</td>\n",
       "      <td>0.0</td>\n",
       "      <td>0.0</td>\n",
       "      <td>0.0</td>\n",
       "      <td>0.0</td>\n",
       "      <td>0.0</td>\n",
       "      <td>0.0</td>\n",
       "      <td>0.0</td>\n",
       "      <td>0.0</td>\n",
       "      <td>0</td>\n",
       "    </tr>\n",
       "    <tr>\n",
       "      <th>...</th>\n",
       "      <td>...</td>\n",
       "      <td>...</td>\n",
       "      <td>...</td>\n",
       "      <td>...</td>\n",
       "      <td>...</td>\n",
       "      <td>...</td>\n",
       "      <td>...</td>\n",
       "      <td>...</td>\n",
       "      <td>...</td>\n",
       "      <td>...</td>\n",
       "      <td>...</td>\n",
       "      <td>...</td>\n",
       "      <td>...</td>\n",
       "      <td>...</td>\n",
       "      <td>...</td>\n",
       "      <td>...</td>\n",
       "      <td>...</td>\n",
       "      <td>...</td>\n",
       "      <td>...</td>\n",
       "      <td>...</td>\n",
       "      <td>...</td>\n",
       "    </tr>\n",
       "    <tr>\n",
       "      <th>19995</th>\n",
       "      <td>0.0</td>\n",
       "      <td>0.00000</td>\n",
       "      <td>0.0</td>\n",
       "      <td>0.0</td>\n",
       "      <td>0.0</td>\n",
       "      <td>0.0</td>\n",
       "      <td>0.0</td>\n",
       "      <td>0.0</td>\n",
       "      <td>0.0</td>\n",
       "      <td>0.0</td>\n",
       "      <td>...</td>\n",
       "      <td>0.0</td>\n",
       "      <td>0.0</td>\n",
       "      <td>0.0</td>\n",
       "      <td>0.0</td>\n",
       "      <td>0.0</td>\n",
       "      <td>0.0</td>\n",
       "      <td>0.0</td>\n",
       "      <td>0.0</td>\n",
       "      <td>0.0</td>\n",
       "      <td>1</td>\n",
       "    </tr>\n",
       "    <tr>\n",
       "      <th>19996</th>\n",
       "      <td>0.0</td>\n",
       "      <td>0.00000</td>\n",
       "      <td>0.0</td>\n",
       "      <td>0.0</td>\n",
       "      <td>0.0</td>\n",
       "      <td>0.0</td>\n",
       "      <td>0.0</td>\n",
       "      <td>0.0</td>\n",
       "      <td>0.0</td>\n",
       "      <td>0.0</td>\n",
       "      <td>...</td>\n",
       "      <td>0.0</td>\n",
       "      <td>0.0</td>\n",
       "      <td>0.0</td>\n",
       "      <td>0.0</td>\n",
       "      <td>0.0</td>\n",
       "      <td>0.0</td>\n",
       "      <td>0.0</td>\n",
       "      <td>0.0</td>\n",
       "      <td>0.0</td>\n",
       "      <td>1</td>\n",
       "    </tr>\n",
       "    <tr>\n",
       "      <th>19997</th>\n",
       "      <td>0.0</td>\n",
       "      <td>0.00000</td>\n",
       "      <td>0.0</td>\n",
       "      <td>0.0</td>\n",
       "      <td>0.0</td>\n",
       "      <td>0.0</td>\n",
       "      <td>0.0</td>\n",
       "      <td>0.0</td>\n",
       "      <td>0.0</td>\n",
       "      <td>0.0</td>\n",
       "      <td>...</td>\n",
       "      <td>0.0</td>\n",
       "      <td>0.0</td>\n",
       "      <td>0.0</td>\n",
       "      <td>0.0</td>\n",
       "      <td>0.0</td>\n",
       "      <td>0.0</td>\n",
       "      <td>0.0</td>\n",
       "      <td>0.0</td>\n",
       "      <td>0.0</td>\n",
       "      <td>0</td>\n",
       "    </tr>\n",
       "    <tr>\n",
       "      <th>19998</th>\n",
       "      <td>0.0</td>\n",
       "      <td>0.00000</td>\n",
       "      <td>0.0</td>\n",
       "      <td>0.0</td>\n",
       "      <td>0.0</td>\n",
       "      <td>0.0</td>\n",
       "      <td>0.0</td>\n",
       "      <td>0.0</td>\n",
       "      <td>0.0</td>\n",
       "      <td>0.0</td>\n",
       "      <td>...</td>\n",
       "      <td>0.0</td>\n",
       "      <td>0.0</td>\n",
       "      <td>0.0</td>\n",
       "      <td>0.0</td>\n",
       "      <td>0.0</td>\n",
       "      <td>0.0</td>\n",
       "      <td>0.0</td>\n",
       "      <td>0.0</td>\n",
       "      <td>0.0</td>\n",
       "      <td>1</td>\n",
       "    </tr>\n",
       "    <tr>\n",
       "      <th>19999</th>\n",
       "      <td>0.0</td>\n",
       "      <td>0.00000</td>\n",
       "      <td>0.0</td>\n",
       "      <td>0.0</td>\n",
       "      <td>0.0</td>\n",
       "      <td>0.0</td>\n",
       "      <td>0.0</td>\n",
       "      <td>0.0</td>\n",
       "      <td>0.0</td>\n",
       "      <td>0.0</td>\n",
       "      <td>...</td>\n",
       "      <td>0.0</td>\n",
       "      <td>0.0</td>\n",
       "      <td>0.0</td>\n",
       "      <td>0.0</td>\n",
       "      <td>0.0</td>\n",
       "      <td>0.0</td>\n",
       "      <td>0.0</td>\n",
       "      <td>0.0</td>\n",
       "      <td>0.0</td>\n",
       "      <td>1</td>\n",
       "    </tr>\n",
       "  </tbody>\n",
       "</table>\n",
       "<p>20000 rows × 14602 columns</p>\n",
       "</div>"
      ],
      "text/plain": [
       "         0        1   10  100  1000  101  105  10th   11  110  ...  zoloft  \\\n",
       "0      0.0  0.05951  0.0  0.0   0.0  0.0  0.0   0.0  0.0  0.0  ...     0.0   \n",
       "1      0.0  0.00000  0.0  0.0   0.0  0.0  0.0   0.0  0.0  0.0  ...     0.0   \n",
       "2      0.0  0.00000  0.0  0.0   0.0  0.0  0.0   0.0  0.0  0.0  ...     0.0   \n",
       "3      0.0  0.00000  0.0  0.0   0.0  0.0  0.0   0.0  0.0  0.0  ...     0.0   \n",
       "4      0.0  0.00000  0.0  0.0   0.0  0.0  0.0   0.0  0.0  0.0  ...     0.0   \n",
       "...    ...      ...  ...  ...   ...  ...  ...   ...  ...  ...  ...     ...   \n",
       "19995  0.0  0.00000  0.0  0.0   0.0  0.0  0.0   0.0  0.0  0.0  ...     0.0   \n",
       "19996  0.0  0.00000  0.0  0.0   0.0  0.0  0.0   0.0  0.0  0.0  ...     0.0   \n",
       "19997  0.0  0.00000  0.0  0.0   0.0  0.0  0.0   0.0  0.0  0.0  ...     0.0   \n",
       "19998  0.0  0.00000  0.0  0.0   0.0  0.0  0.0   0.0  0.0  0.0  ...     0.0   \n",
       "19999  0.0  0.00000  0.0  0.0   0.0  0.0  0.0   0.0  0.0  0.0  ...     0.0   \n",
       "\n",
       "       zombie  zonal  zone  zoo  zoom   zs   zu  zurich  ham_label  \n",
       "0         0.0    0.0   0.0  0.0   0.0  0.0  0.0     0.0          0  \n",
       "1         0.0    0.0   0.0  0.0   0.0  0.0  0.0     0.0          0  \n",
       "2         0.0    0.0   0.0  0.0   0.0  0.0  0.0     0.0          0  \n",
       "3         0.0    0.0   0.0  0.0   0.0  0.0  0.0     0.0          0  \n",
       "4         0.0    0.0   0.0  0.0   0.0  0.0  0.0     0.0          0  \n",
       "...       ...    ...   ...  ...   ...  ...  ...     ...        ...  \n",
       "19995     0.0    0.0   0.0  0.0   0.0  0.0  0.0     0.0          1  \n",
       "19996     0.0    0.0   0.0  0.0   0.0  0.0  0.0     0.0          1  \n",
       "19997     0.0    0.0   0.0  0.0   0.0  0.0  0.0     0.0          0  \n",
       "19998     0.0    0.0   0.0  0.0   0.0  0.0  0.0     0.0          1  \n",
       "19999     0.0    0.0   0.0  0.0   0.0  0.0  0.0     0.0          1  \n",
       "\n",
       "[20000 rows x 14602 columns]"
      ]
     },
     "execution_count": 124,
     "metadata": {},
     "output_type": "execute_result"
    }
   ],
   "source": [
    "tfidf_df = pd.DataFrame(vec.todense())\n",
    "tfidf_df.columns = tfidf_vectorizer.get_feature_names_out()\n",
    "tfidf_df[\"ham_label\"] = cleaned_emails.label.values\n",
    "tfidf_df[\"ham_label\"] = (tfidf_df[\"ham_label\"] != \"Ham\").astype(\"int\")\n",
    "tfidf_df"
   ]
  },
  {
   "cell_type": "markdown",
   "id": "ed071852",
   "metadata": {},
   "source": [
    "Now that our TF-IDF is done, we can train a logistic regression model on the TF-IDF data. We first split the 20,000 rows into a training and testing dataset, then separate the ham_label column from the TF-IDF columns."
   ]
  },
  {
   "cell_type": "code",
   "execution_count": 125,
   "id": "3b5fb66d",
   "metadata": {},
   "outputs": [],
   "source": [
    "classifier = LogisticRegression()\n",
    "\n",
    "train, test = train_test_split(tfidf_df, test_size=0.2, random_state=42, stratify=tfidf_df[\"ham_label\"])"
   ]
  },
  {
   "cell_type": "code",
   "execution_count": 126,
   "id": "b7815e9d",
   "metadata": {},
   "outputs": [],
   "source": [
    "X_train = train.drop(columns=[\"ham_label\"])\n",
    "y_train = train[\"ham_label\"]\n",
    "\n",
    "X_test = test.drop(columns=[\"ham_label\"])\n",
    "y_test = test[\"ham_label\"]"
   ]
  },
  {
   "cell_type": "code",
   "execution_count": 127,
   "id": "44af9a10",
   "metadata": {},
   "outputs": [
    {
     "data": {
      "text/plain": [
       "6056     1\n",
       "13603    0\n",
       "1226     1\n",
       "2589     0\n",
       "18355    0\n",
       "        ..\n",
       "10444    0\n",
       "13674    1\n",
       "15050    1\n",
       "1833     0\n",
       "15123    1\n",
       "Name: ham_label, Length: 4000, dtype: int32"
      ]
     },
     "execution_count": 127,
     "metadata": {},
     "output_type": "execute_result"
    }
   ],
   "source": [
    "y_test"
   ]
  },
  {
   "cell_type": "markdown",
   "id": "dabc7d60",
   "metadata": {},
   "source": [
    "Our data is split into training and testing, so we can fit the regression model to the training data."
   ]
  },
  {
   "cell_type": "code",
   "execution_count": 128,
   "id": "96e690f1",
   "metadata": {
    "scrolled": true
   },
   "outputs": [
    {
     "data": {
      "text/html": [
       "<style>#sk-container-id-4 {color: black;}#sk-container-id-4 pre{padding: 0;}#sk-container-id-4 div.sk-toggleable {background-color: white;}#sk-container-id-4 label.sk-toggleable__label {cursor: pointer;display: block;width: 100%;margin-bottom: 0;padding: 0.3em;box-sizing: border-box;text-align: center;}#sk-container-id-4 label.sk-toggleable__label-arrow:before {content: \"▸\";float: left;margin-right: 0.25em;color: #696969;}#sk-container-id-4 label.sk-toggleable__label-arrow:hover:before {color: black;}#sk-container-id-4 div.sk-estimator:hover label.sk-toggleable__label-arrow:before {color: black;}#sk-container-id-4 div.sk-toggleable__content {max-height: 0;max-width: 0;overflow: hidden;text-align: left;background-color: #f0f8ff;}#sk-container-id-4 div.sk-toggleable__content pre {margin: 0.2em;color: black;border-radius: 0.25em;background-color: #f0f8ff;}#sk-container-id-4 input.sk-toggleable__control:checked~div.sk-toggleable__content {max-height: 200px;max-width: 100%;overflow: auto;}#sk-container-id-4 input.sk-toggleable__control:checked~label.sk-toggleable__label-arrow:before {content: \"▾\";}#sk-container-id-4 div.sk-estimator input.sk-toggleable__control:checked~label.sk-toggleable__label {background-color: #d4ebff;}#sk-container-id-4 div.sk-label input.sk-toggleable__control:checked~label.sk-toggleable__label {background-color: #d4ebff;}#sk-container-id-4 input.sk-hidden--visually {border: 0;clip: rect(1px 1px 1px 1px);clip: rect(1px, 1px, 1px, 1px);height: 1px;margin: -1px;overflow: hidden;padding: 0;position: absolute;width: 1px;}#sk-container-id-4 div.sk-estimator {font-family: monospace;background-color: #f0f8ff;border: 1px dotted black;border-radius: 0.25em;box-sizing: border-box;margin-bottom: 0.5em;}#sk-container-id-4 div.sk-estimator:hover {background-color: #d4ebff;}#sk-container-id-4 div.sk-parallel-item::after {content: \"\";width: 100%;border-bottom: 1px solid gray;flex-grow: 1;}#sk-container-id-4 div.sk-label:hover label.sk-toggleable__label {background-color: #d4ebff;}#sk-container-id-4 div.sk-serial::before {content: \"\";position: absolute;border-left: 1px solid gray;box-sizing: border-box;top: 0;bottom: 0;left: 50%;z-index: 0;}#sk-container-id-4 div.sk-serial {display: flex;flex-direction: column;align-items: center;background-color: white;padding-right: 0.2em;padding-left: 0.2em;position: relative;}#sk-container-id-4 div.sk-item {position: relative;z-index: 1;}#sk-container-id-4 div.sk-parallel {display: flex;align-items: stretch;justify-content: center;background-color: white;position: relative;}#sk-container-id-4 div.sk-item::before, #sk-container-id-4 div.sk-parallel-item::before {content: \"\";position: absolute;border-left: 1px solid gray;box-sizing: border-box;top: 0;bottom: 0;left: 50%;z-index: -1;}#sk-container-id-4 div.sk-parallel-item {display: flex;flex-direction: column;z-index: 1;position: relative;background-color: white;}#sk-container-id-4 div.sk-parallel-item:first-child::after {align-self: flex-end;width: 50%;}#sk-container-id-4 div.sk-parallel-item:last-child::after {align-self: flex-start;width: 50%;}#sk-container-id-4 div.sk-parallel-item:only-child::after {width: 0;}#sk-container-id-4 div.sk-dashed-wrapped {border: 1px dashed gray;margin: 0 0.4em 0.5em 0.4em;box-sizing: border-box;padding-bottom: 0.4em;background-color: white;}#sk-container-id-4 div.sk-label label {font-family: monospace;font-weight: bold;display: inline-block;line-height: 1.2em;}#sk-container-id-4 div.sk-label-container {text-align: center;}#sk-container-id-4 div.sk-container {/* jupyter's `normalize.less` sets `[hidden] { display: none; }` but bootstrap.min.css set `[hidden] { display: none !important; }` so we also need the `!important` here to be able to override the default hidden behavior on the sphinx rendered scikit-learn.org. See: https://github.com/scikit-learn/scikit-learn/issues/21755 */display: inline-block !important;position: relative;}#sk-container-id-4 div.sk-text-repr-fallback {display: none;}</style><div id=\"sk-container-id-4\" class=\"sk-top-container\"><div class=\"sk-text-repr-fallback\"><pre>LogisticRegression()</pre><b>In a Jupyter environment, please rerun this cell to show the HTML representation or trust the notebook. <br />On GitHub, the HTML representation is unable to render, please try loading this page with nbviewer.org.</b></div><div class=\"sk-container\" hidden><div class=\"sk-item\"><div class=\"sk-estimator sk-toggleable\"><input class=\"sk-toggleable__control sk-hidden--visually\" id=\"sk-estimator-id-4\" type=\"checkbox\" checked><label for=\"sk-estimator-id-4\" class=\"sk-toggleable__label sk-toggleable__label-arrow\">LogisticRegression</label><div class=\"sk-toggleable__content\"><pre>LogisticRegression()</pre></div></div></div></div></div>"
      ],
      "text/plain": [
       "LogisticRegression()"
      ]
     },
     "execution_count": 128,
     "metadata": {},
     "output_type": "execute_result"
    }
   ],
   "source": [
    "classifier.fit(X_train, y_train)"
   ]
  },
  {
   "cell_type": "markdown",
   "id": "9652004d",
   "metadata": {},
   "source": [
    "##### Testing and Evaluation"
   ]
  },
  {
   "cell_type": "markdown",
   "id": "c5f8a77e",
   "metadata": {},
   "source": [
    "We are ready to make predictions and evaluate our model's performance."
   ]
  },
  {
   "cell_type": "code",
   "execution_count": 129,
   "id": "4ef2ea1e",
   "metadata": {},
   "outputs": [],
   "source": [
    "predicted = classifier.predict(X_test)"
   ]
  },
  {
   "cell_type": "code",
   "execution_count": 130,
   "id": "49130f64",
   "metadata": {},
   "outputs": [
    {
     "data": {
      "text/plain": [
       "0.949"
      ]
     },
     "execution_count": 130,
     "metadata": {},
     "output_type": "execute_result"
    }
   ],
   "source": [
    "metrics.accuracy_score(y_test, predicted)"
   ]
  },
  {
   "cell_type": "code",
   "execution_count": 131,
   "id": "49bb3b77",
   "metadata": {},
   "outputs": [
    {
     "data": {
      "text/plain": [
       "0.9357798165137615"
      ]
     },
     "execution_count": 131,
     "metadata": {},
     "output_type": "execute_result"
    }
   ],
   "source": [
    "metrics.precision_score(y_test, predicted)"
   ]
  },
  {
   "cell_type": "code",
   "execution_count": 132,
   "id": "72d5877b",
   "metadata": {},
   "outputs": [
    {
     "data": {
      "text/plain": [
       "0.9592476489028213"
      ]
     },
     "execution_count": 132,
     "metadata": {},
     "output_type": "execute_result"
    }
   ],
   "source": [
    "metrics.recall_score(y_test, predicted)"
   ]
  },
  {
   "cell_type": "markdown",
   "id": "e6b550d6",
   "metadata": {},
   "source": [
    "Our first result is pure accuracy, calculated as the number of correctly classified documents divided by the total number of documents.\n",
    "\n",
    "The second result is precision. Precision can be thought of as \"when we predict spam, how accurate are we?\" It is calculated by dividing the number of True Positives (predicted spam AND actually is spam) by the number of predicted positives (predicted spam regardless of actual value).\n",
    "\n",
    "The third result is recall. Recall can be thought of as \"how good are we at identifying spam?\" It is calculated by dividing the number of True Positives (predicted spam AND actually is spam) by the number of actual positives (actaually is spam regardless of prediction.\n"
   ]
  },
  {
   "cell_type": "markdown",
   "id": "c85c89af",
   "metadata": {},
   "source": [
    "Below, we visualize our accuracy in predicions using a heatmap."
   ]
  },
  {
   "cell_type": "code",
   "execution_count": 133,
   "id": "9309d1a0",
   "metadata": {},
   "outputs": [
    {
     "data": {
      "image/png": "[encoded data removed]",
      "text/plain": [
       "<Figure size 640x480 with 2 Axes>"
      ]
     },
     "metadata": {},
     "output_type": "display_data"
    }
   ],
   "source": [
    "cm = metrics.confusion_matrix(y_test, predicted)\n",
    "sns.heatmap(cm, annot=True, fmt='d', cmap = sns.color_palette(\"coolwarm\", 20), xticklabels=[\"Ham\", \"Spam\"], yticklabels=[\"Ham\", \"Spam\"])\n",
    "plt.title('Email Classification Confusion Matrix')\n",
    "plt.xlabel('PREDICTED')\n",
    "plt.ylabel('ACTUAL')\n",
    "plt.show()"
   ]
  },
  {
   "cell_type": "markdown",
   "id": "643beaf6",
   "metadata": {},
   "source": [
    "#### Conclusion 1"
   ]
  },
  {
   "cell_type": "markdown",
   "id": "703f80f4",
   "metadata": {},
   "source": [
    "These results are quite good! Using only TF-IDF, we were able to classify emails with 94.9% accuracy. Our precision and recall scores are quite high as well, signifying that we are able to minimize both false positives and false negatives, which is also indicative of a good model. With this in mind, we can say that our hypothesis for the first research question is accurate - <u>we can effectively classify ham and spam documents using TF-IDF.</u>"
   ]
  },
  {
   "cell_type": "markdown",
   "id": "41813e91",
   "metadata": {},
   "source": [
    "One nice thing about this method we used is that we can view the coefficients of each word to see which words are most indicative of ham or spam."
   ]
  },
  {
   "cell_type": "code",
   "execution_count": 134,
   "id": "a1a4d478",
   "metadata": {
    "scrolled": false
   },
   "outputs": [
    {
     "data": {
      "text/html": [
       "<div>\n",
       "<style scoped>\n",
       "    .dataframe tbody tr th:only-of-type {\n",
       "        vertical-align: middle;\n",
       "    }\n",
       "\n",
       "    .dataframe tbody tr th {\n",
       "        vertical-align: top;\n",
       "    }\n",
       "\n",
       "    .dataframe thead th {\n",
       "        text-align: right;\n",
       "    }\n",
       "</style>\n",
       "<table border=\"1\" class=\"dataframe\">\n",
       "  <thead>\n",
       "    <tr style=\"text-align: right;\">\n",
       "      <th></th>\n",
       "      <th>coefficients</th>\n",
       "      <th>word</th>\n",
       "    </tr>\n",
       "  </thead>\n",
       "  <tbody>\n",
       "    <tr>\n",
       "      <th>0</th>\n",
       "      <td>0.645761</td>\n",
       "      <td>0</td>\n",
       "    </tr>\n",
       "    <tr>\n",
       "      <th>1</th>\n",
       "      <td>-0.208148</td>\n",
       "      <td>1</td>\n",
       "    </tr>\n",
       "    <tr>\n",
       "      <th>2</th>\n",
       "      <td>-0.446985</td>\n",
       "      <td>10</td>\n",
       "    </tr>\n",
       "    <tr>\n",
       "      <th>3</th>\n",
       "      <td>0.861631</td>\n",
       "      <td>100</td>\n",
       "    </tr>\n",
       "    <tr>\n",
       "      <th>4</th>\n",
       "      <td>0.295407</td>\n",
       "      <td>1000</td>\n",
       "    </tr>\n",
       "    <tr>\n",
       "      <th>...</th>\n",
       "      <td>...</td>\n",
       "      <td>...</td>\n",
       "    </tr>\n",
       "    <tr>\n",
       "      <th>14596</th>\n",
       "      <td>-0.136908</td>\n",
       "      <td>zoo</td>\n",
       "    </tr>\n",
       "    <tr>\n",
       "      <th>14597</th>\n",
       "      <td>0.153178</td>\n",
       "      <td>zoom</td>\n",
       "    </tr>\n",
       "    <tr>\n",
       "      <th>14598</th>\n",
       "      <td>0.240017</td>\n",
       "      <td>zs</td>\n",
       "    </tr>\n",
       "    <tr>\n",
       "      <th>14599</th>\n",
       "      <td>0.589116</td>\n",
       "      <td>zu</td>\n",
       "    </tr>\n",
       "    <tr>\n",
       "      <th>14600</th>\n",
       "      <td>-0.003693</td>\n",
       "      <td>zurich</td>\n",
       "    </tr>\n",
       "  </tbody>\n",
       "</table>\n",
       "<p>14601 rows × 2 columns</p>\n",
       "</div>"
      ],
      "text/plain": [
       "       coefficients    word\n",
       "0          0.645761       0\n",
       "1         -0.208148       1\n",
       "2         -0.446985      10\n",
       "3          0.861631     100\n",
       "4          0.295407    1000\n",
       "...             ...     ...\n",
       "14596     -0.136908     zoo\n",
       "14597      0.153178    zoom\n",
       "14598      0.240017      zs\n",
       "14599      0.589116      zu\n",
       "14600     -0.003693  zurich\n",
       "\n",
       "[14601 rows x 2 columns]"
      ]
     },
     "execution_count": 134,
     "metadata": {},
     "output_type": "execute_result"
    }
   ],
   "source": [
    "vocab = list(pd.DataFrame(tfidf_vectorizer.vocabulary_, index=[0]).T.sort_values(0).index)\n",
    "coefficients = pd.DataFrame({'coefficients':list(classifier.coef_.flatten()), 'word': vocab})\n",
    "coefficients"
   ]
  },
  {
   "cell_type": "markdown",
   "id": "2bea8d2a",
   "metadata": {},
   "source": [
    "We are interested in discovering which words are most indicative of ham and spam respectively. We can retrieve the 25 most positive and negative coefficients to see this."
   ]
  },
  {
   "cell_type": "code",
   "execution_count": 135,
   "id": "b7dabfc6",
   "metadata": {},
   "outputs": [],
   "source": [
    "# Get the 25 most influential negative coefficients\n",
    "lowest = coefficients.sort_values(by='coefficients').head(25).reset_index(drop=True)\n",
    "lowest.columns = [\"coefficient_low\", \"ham_indicator\"]\n",
    "\n",
    "# Get the 25 most influential positive coefficients\n",
    "highest = coefficients.sort_values(by='coefficients', ascending=False).head(25).reset_index(drop=True)\n",
    "highest.columns = [\"coefficient_high\", \"spam_indicator\"]\n",
    "\n",
    "# Combine the negative and positive coefficients into one dataframe\n",
    "most_important_words = pd.concat([lowest, highest], axis=1)"
   ]
  },
  {
   "cell_type": "code",
   "execution_count": 136,
   "id": "3ea3ce44",
   "metadata": {
    "scrolled": false
   },
   "outputs": [
    {
     "data": {
      "text/html": [
       "<div>\n",
       "<style scoped>\n",
       "    .dataframe tbody tr th:only-of-type {\n",
       "        vertical-align: middle;\n",
       "    }\n",
       "\n",
       "    .dataframe tbody tr th {\n",
       "        vertical-align: top;\n",
       "    }\n",
       "\n",
       "    .dataframe thead th {\n",
       "        text-align: right;\n",
       "    }\n",
       "</style>\n",
       "<table border=\"1\" class=\"dataframe\">\n",
       "  <thead>\n",
       "    <tr style=\"text-align: right;\">\n",
       "      <th></th>\n",
       "      <th>coefficient_low</th>\n",
       "      <th>ham_indicator</th>\n",
       "      <th>coefficient_high</th>\n",
       "      <th>spam_indicator</th>\n",
       "    </tr>\n",
       "  </thead>\n",
       "  <tbody>\n",
       "    <tr>\n",
       "      <th>0</th>\n",
       "      <td>-5.571765</td>\n",
       "      <td>thank</td>\n",
       "      <td>3.145960</td>\n",
       "      <td>product</td>\n",
       "    </tr>\n",
       "    <tr>\n",
       "      <th>1</th>\n",
       "      <td>-4.881100</td>\n",
       "      <td>subject</td>\n",
       "      <td>3.135748</td>\n",
       "      <td>http</td>\n",
       "    </tr>\n",
       "    <tr>\n",
       "      <th>2</th>\n",
       "      <td>-4.643366</td>\n",
       "      <td>samba</td>\n",
       "      <td>3.034440</td>\n",
       "      <td>target</td>\n",
       "    </tr>\n",
       "    <tr>\n",
       "      <th>3</th>\n",
       "      <td>-4.547830</td>\n",
       "      <td>attach</td>\n",
       "      <td>2.950950</td>\n",
       "      <td>save</td>\n",
       "    </tr>\n",
       "    <tr>\n",
       "      <th>4</th>\n",
       "      <td>-4.258213</td>\n",
       "      <td>question</td>\n",
       "      <td>2.898979</td>\n",
       "      <td>money</td>\n",
       "    </tr>\n",
       "    <tr>\n",
       "      <th>5</th>\n",
       "      <td>-3.962508</td>\n",
       "      <td>comment</td>\n",
       "      <td>2.826852</td>\n",
       "      <td>remove</td>\n",
       "    </tr>\n",
       "    <tr>\n",
       "      <th>6</th>\n",
       "      <td>-3.827366</td>\n",
       "      <td>houston</td>\n",
       "      <td>2.776149</td>\n",
       "      <td>offer</td>\n",
       "    </tr>\n",
       "    <tr>\n",
       "      <th>7</th>\n",
       "      <td>-3.686493</td>\n",
       "      <td>pm</td>\n",
       "      <td>2.681395</td>\n",
       "      <td>account</td>\n",
       "    </tr>\n",
       "    <tr>\n",
       "      <th>8</th>\n",
       "      <td>-3.488709</td>\n",
       "      <td>send</td>\n",
       "      <td>2.536901</td>\n",
       "      <td>price</td>\n",
       "    </tr>\n",
       "    <tr>\n",
       "      <th>9</th>\n",
       "      <td>-3.400850</td>\n",
       "      <td>fax</td>\n",
       "      <td>2.503136</td>\n",
       "      <td>hot</td>\n",
       "    </tr>\n",
       "    <tr>\n",
       "      <th>10</th>\n",
       "      <td>-3.344914</td>\n",
       "      <td>change</td>\n",
       "      <td>2.467394</td>\n",
       "      <td>pill</td>\n",
       "    </tr>\n",
       "    <tr>\n",
       "      <th>11</th>\n",
       "      <td>-3.336342</td>\n",
       "      <td>corp</td>\n",
       "      <td>2.464794</td>\n",
       "      <td>info</td>\n",
       "    </tr>\n",
       "    <tr>\n",
       "      <th>12</th>\n",
       "      <td>-3.334513</td>\n",
       "      <td>original</td>\n",
       "      <td>2.452109</td>\n",
       "      <td>software</td>\n",
       "    </tr>\n",
       "    <tr>\n",
       "      <th>13</th>\n",
       "      <td>-3.249255</td>\n",
       "      <td>think</td>\n",
       "      <td>2.394892</td>\n",
       "      <td>statement</td>\n",
       "    </tr>\n",
       "    <tr>\n",
       "      <th>14</th>\n",
       "      <td>-3.209174</td>\n",
       "      <td>list</td>\n",
       "      <td>2.383540</td>\n",
       "      <td>quality</td>\n",
       "    </tr>\n",
       "    <tr>\n",
       "      <th>15</th>\n",
       "      <td>-3.161857</td>\n",
       "      <td>beginner</td>\n",
       "      <td>2.263532</td>\n",
       "      <td>loan</td>\n",
       "    </tr>\n",
       "    <tr>\n",
       "      <th>16</th>\n",
       "      <td>-3.142600</td>\n",
       "      <td>meeting</td>\n",
       "      <td>2.231063</td>\n",
       "      <td>life</td>\n",
       "    </tr>\n",
       "    <tr>\n",
       "      <th>17</th>\n",
       "      <td>-3.119865</td>\n",
       "      <td>gas</td>\n",
       "      <td>2.193746</td>\n",
       "      <td>girl</td>\n",
       "    </tr>\n",
       "    <tr>\n",
       "      <th>18</th>\n",
       "      <td>-3.109307</td>\n",
       "      <td>employee</td>\n",
       "      <td>2.129547</td>\n",
       "      <td>dear</td>\n",
       "    </tr>\n",
       "    <tr>\n",
       "      <th>19</th>\n",
       "      <td>-3.067222</td>\n",
       "      <td>october</td>\n",
       "      <td>2.125823</td>\n",
       "      <td>professional</td>\n",
       "    </tr>\n",
       "    <tr>\n",
       "      <th>20</th>\n",
       "      <td>-3.004434</td>\n",
       "      <td>file</td>\n",
       "      <td>2.119566</td>\n",
       "      <td>thousand</td>\n",
       "    </tr>\n",
       "    <tr>\n",
       "      <th>21</th>\n",
       "      <td>-2.978373</td>\n",
       "      <td>wednesday</td>\n",
       "      <td>2.083558</td>\n",
       "      <td>site</td>\n",
       "    </tr>\n",
       "    <tr>\n",
       "      <th>22</th>\n",
       "      <td>-2.970850</td>\n",
       "      <td>group</td>\n",
       "      <td>2.070286</td>\n",
       "      <td>medication</td>\n",
       "    </tr>\n",
       "    <tr>\n",
       "      <th>23</th>\n",
       "      <td>-2.957477</td>\n",
       "      <td>monday</td>\n",
       "      <td>2.044334</td>\n",
       "      <td>net</td>\n",
       "    </tr>\n",
       "    <tr>\n",
       "      <th>24</th>\n",
       "      <td>-2.953030</td>\n",
       "      <td>tuesday</td>\n",
       "      <td>2.036476</td>\n",
       "      <td>viagra</td>\n",
       "    </tr>\n",
       "  </tbody>\n",
       "</table>\n",
       "</div>"
      ],
      "text/plain": [
       "    coefficient_low ham_indicator  coefficient_high spam_indicator\n",
       "0         -5.571765         thank          3.145960        product\n",
       "1         -4.881100       subject          3.135748           http\n",
       "2         -4.643366         samba          3.034440         target\n",
       "3         -4.547830        attach          2.950950           save\n",
       "4         -4.258213      question          2.898979          money\n",
       "5         -3.962508       comment          2.826852         remove\n",
       "6         -3.827366       houston          2.776149          offer\n",
       "7         -3.686493            pm          2.681395        account\n",
       "8         -3.488709          send          2.536901          price\n",
       "9         -3.400850           fax          2.503136            hot\n",
       "10        -3.344914        change          2.467394           pill\n",
       "11        -3.336342          corp          2.464794           info\n",
       "12        -3.334513      original          2.452109       software\n",
       "13        -3.249255         think          2.394892      statement\n",
       "14        -3.209174          list          2.383540        quality\n",
       "15        -3.161857      beginner          2.263532           loan\n",
       "16        -3.142600       meeting          2.231063           life\n",
       "17        -3.119865           gas          2.193746           girl\n",
       "18        -3.109307      employee          2.129547           dear\n",
       "19        -3.067222       october          2.125823   professional\n",
       "20        -3.004434          file          2.119566       thousand\n",
       "21        -2.978373     wednesday          2.083558           site\n",
       "22        -2.970850         group          2.070286     medication\n",
       "23        -2.957477        monday          2.044334            net\n",
       "24        -2.953030       tuesday          2.036476         viagra"
      ]
     },
     "execution_count": 136,
     "metadata": {},
     "output_type": "execute_result"
    }
   ],
   "source": [
    "most_important_words"
   ]
  },
  {
   "cell_type": "markdown",
   "id": "35b9f0eb",
   "metadata": {},
   "source": [
    "Many of these results make intuitive sense. Words such as \"question\", \"comment\", and \"meeting\" are highly indicative of real emails. Most spam emails would not try to ask questions, make comments, or schedule meetings. On the other hand, spam is suggested with words like \"product\", \"pill\", and \"save\", words that are associated with trying to sell someone something."
   ]
  },
  {
   "cell_type": "markdown",
   "id": "640015c3",
   "metadata": {},
   "source": [
    "##### Including invalid word rates"
   ]
  },
  {
   "cell_type": "markdown",
   "id": "a7f6bb0b",
   "metadata": {},
   "source": [
    "To address our second research question, we rerun out model, this time including the percentage of invalid words in each email."
   ]
  },
  {
   "cell_type": "code",
   "execution_count": 137,
   "id": "78b642ad",
   "metadata": {},
   "outputs": [
    {
     "data": {
      "text/html": [
       "<div>\n",
       "<style scoped>\n",
       "    .dataframe tbody tr th:only-of-type {\n",
       "        vertical-align: middle;\n",
       "    }\n",
       "\n",
       "    .dataframe tbody tr th {\n",
       "        vertical-align: top;\n",
       "    }\n",
       "\n",
       "    .dataframe thead th {\n",
       "        text-align: right;\n",
       "    }\n",
       "</style>\n",
       "<table border=\"1\" class=\"dataframe\">\n",
       "  <thead>\n",
       "    <tr style=\"text-align: right;\">\n",
       "      <th></th>\n",
       "      <th>0</th>\n",
       "      <th>1</th>\n",
       "      <th>10</th>\n",
       "      <th>100</th>\n",
       "      <th>1000</th>\n",
       "      <th>101</th>\n",
       "      <th>105</th>\n",
       "      <th>10th</th>\n",
       "      <th>11</th>\n",
       "      <th>110</th>\n",
       "      <th>...</th>\n",
       "      <th>zombie</th>\n",
       "      <th>zonal</th>\n",
       "      <th>zone</th>\n",
       "      <th>zoo</th>\n",
       "      <th>zoom</th>\n",
       "      <th>zs</th>\n",
       "      <th>zu</th>\n",
       "      <th>zurich</th>\n",
       "      <th>ham_label</th>\n",
       "      <th>invalid_pct</th>\n",
       "    </tr>\n",
       "  </thead>\n",
       "  <tbody>\n",
       "    <tr>\n",
       "      <th>0</th>\n",
       "      <td>0.0</td>\n",
       "      <td>0.05951</td>\n",
       "      <td>0.0</td>\n",
       "      <td>0.0</td>\n",
       "      <td>0.0</td>\n",
       "      <td>0.0</td>\n",
       "      <td>0.0</td>\n",
       "      <td>0.0</td>\n",
       "      <td>0.0</td>\n",
       "      <td>0.0</td>\n",
       "      <td>...</td>\n",
       "      <td>0.0</td>\n",
       "      <td>0.0</td>\n",
       "      <td>0.0</td>\n",
       "      <td>0.0</td>\n",
       "      <td>0.0</td>\n",
       "      <td>0.0</td>\n",
       "      <td>0.0</td>\n",
       "      <td>0.0</td>\n",
       "      <td>0</td>\n",
       "      <td>0.377622</td>\n",
       "    </tr>\n",
       "    <tr>\n",
       "      <th>1</th>\n",
       "      <td>0.0</td>\n",
       "      <td>0.00000</td>\n",
       "      <td>0.0</td>\n",
       "      <td>0.0</td>\n",
       "      <td>0.0</td>\n",
       "      <td>0.0</td>\n",
       "      <td>0.0</td>\n",
       "      <td>0.0</td>\n",
       "      <td>0.0</td>\n",
       "      <td>0.0</td>\n",
       "      <td>...</td>\n",
       "      <td>0.0</td>\n",
       "      <td>0.0</td>\n",
       "      <td>0.0</td>\n",
       "      <td>0.0</td>\n",
       "      <td>0.0</td>\n",
       "      <td>0.0</td>\n",
       "      <td>0.0</td>\n",
       "      <td>0.0</td>\n",
       "      <td>0</td>\n",
       "      <td>0.033557</td>\n",
       "    </tr>\n",
       "    <tr>\n",
       "      <th>2</th>\n",
       "      <td>0.0</td>\n",
       "      <td>0.00000</td>\n",
       "      <td>0.0</td>\n",
       "      <td>0.0</td>\n",
       "      <td>0.0</td>\n",
       "      <td>0.0</td>\n",
       "      <td>0.0</td>\n",
       "      <td>0.0</td>\n",
       "      <td>0.0</td>\n",
       "      <td>0.0</td>\n",
       "      <td>...</td>\n",
       "      <td>0.0</td>\n",
       "      <td>0.0</td>\n",
       "      <td>0.0</td>\n",
       "      <td>0.0</td>\n",
       "      <td>0.0</td>\n",
       "      <td>0.0</td>\n",
       "      <td>0.0</td>\n",
       "      <td>0.0</td>\n",
       "      <td>0</td>\n",
       "      <td>0.381818</td>\n",
       "    </tr>\n",
       "    <tr>\n",
       "      <th>3</th>\n",
       "      <td>0.0</td>\n",
       "      <td>0.00000</td>\n",
       "      <td>0.0</td>\n",
       "      <td>0.0</td>\n",
       "      <td>0.0</td>\n",
       "      <td>0.0</td>\n",
       "      <td>0.0</td>\n",
       "      <td>0.0</td>\n",
       "      <td>0.0</td>\n",
       "      <td>0.0</td>\n",
       "      <td>...</td>\n",
       "      <td>0.0</td>\n",
       "      <td>0.0</td>\n",
       "      <td>0.0</td>\n",
       "      <td>0.0</td>\n",
       "      <td>0.0</td>\n",
       "      <td>0.0</td>\n",
       "      <td>0.0</td>\n",
       "      <td>0.0</td>\n",
       "      <td>0</td>\n",
       "      <td>0.245283</td>\n",
       "    </tr>\n",
       "    <tr>\n",
       "      <th>4</th>\n",
       "      <td>0.0</td>\n",
       "      <td>0.00000</td>\n",
       "      <td>0.0</td>\n",
       "      <td>0.0</td>\n",
       "      <td>0.0</td>\n",
       "      <td>0.0</td>\n",
       "      <td>0.0</td>\n",
       "      <td>0.0</td>\n",
       "      <td>0.0</td>\n",
       "      <td>0.0</td>\n",
       "      <td>...</td>\n",
       "      <td>0.0</td>\n",
       "      <td>0.0</td>\n",
       "      <td>0.0</td>\n",
       "      <td>0.0</td>\n",
       "      <td>0.0</td>\n",
       "      <td>0.0</td>\n",
       "      <td>0.0</td>\n",
       "      <td>0.0</td>\n",
       "      <td>0</td>\n",
       "      <td>0.101190</td>\n",
       "    </tr>\n",
       "    <tr>\n",
       "      <th>...</th>\n",
       "      <td>...</td>\n",
       "      <td>...</td>\n",
       "      <td>...</td>\n",
       "      <td>...</td>\n",
       "      <td>...</td>\n",
       "      <td>...</td>\n",
       "      <td>...</td>\n",
       "      <td>...</td>\n",
       "      <td>...</td>\n",
       "      <td>...</td>\n",
       "      <td>...</td>\n",
       "      <td>...</td>\n",
       "      <td>...</td>\n",
       "      <td>...</td>\n",
       "      <td>...</td>\n",
       "      <td>...</td>\n",
       "      <td>...</td>\n",
       "      <td>...</td>\n",
       "      <td>...</td>\n",
       "      <td>...</td>\n",
       "      <td>...</td>\n",
       "    </tr>\n",
       "    <tr>\n",
       "      <th>19995</th>\n",
       "      <td>0.0</td>\n",
       "      <td>0.00000</td>\n",
       "      <td>0.0</td>\n",
       "      <td>0.0</td>\n",
       "      <td>0.0</td>\n",
       "      <td>0.0</td>\n",
       "      <td>0.0</td>\n",
       "      <td>0.0</td>\n",
       "      <td>0.0</td>\n",
       "      <td>0.0</td>\n",
       "      <td>...</td>\n",
       "      <td>0.0</td>\n",
       "      <td>0.0</td>\n",
       "      <td>0.0</td>\n",
       "      <td>0.0</td>\n",
       "      <td>0.0</td>\n",
       "      <td>0.0</td>\n",
       "      <td>0.0</td>\n",
       "      <td>0.0</td>\n",
       "      <td>1</td>\n",
       "      <td>0.166667</td>\n",
       "    </tr>\n",
       "    <tr>\n",
       "      <th>19996</th>\n",
       "      <td>0.0</td>\n",
       "      <td>0.00000</td>\n",
       "      <td>0.0</td>\n",
       "      <td>0.0</td>\n",
       "      <td>0.0</td>\n",
       "      <td>0.0</td>\n",
       "      <td>0.0</td>\n",
       "      <td>0.0</td>\n",
       "      <td>0.0</td>\n",
       "      <td>0.0</td>\n",
       "      <td>...</td>\n",
       "      <td>0.0</td>\n",
       "      <td>0.0</td>\n",
       "      <td>0.0</td>\n",
       "      <td>0.0</td>\n",
       "      <td>0.0</td>\n",
       "      <td>0.0</td>\n",
       "      <td>0.0</td>\n",
       "      <td>0.0</td>\n",
       "      <td>1</td>\n",
       "      <td>0.349315</td>\n",
       "    </tr>\n",
       "    <tr>\n",
       "      <th>19997</th>\n",
       "      <td>0.0</td>\n",
       "      <td>0.00000</td>\n",
       "      <td>0.0</td>\n",
       "      <td>0.0</td>\n",
       "      <td>0.0</td>\n",
       "      <td>0.0</td>\n",
       "      <td>0.0</td>\n",
       "      <td>0.0</td>\n",
       "      <td>0.0</td>\n",
       "      <td>0.0</td>\n",
       "      <td>...</td>\n",
       "      <td>0.0</td>\n",
       "      <td>0.0</td>\n",
       "      <td>0.0</td>\n",
       "      <td>0.0</td>\n",
       "      <td>0.0</td>\n",
       "      <td>0.0</td>\n",
       "      <td>0.0</td>\n",
       "      <td>0.0</td>\n",
       "      <td>0</td>\n",
       "      <td>0.424354</td>\n",
       "    </tr>\n",
       "    <tr>\n",
       "      <th>19998</th>\n",
       "      <td>0.0</td>\n",
       "      <td>0.00000</td>\n",
       "      <td>0.0</td>\n",
       "      <td>0.0</td>\n",
       "      <td>0.0</td>\n",
       "      <td>0.0</td>\n",
       "      <td>0.0</td>\n",
       "      <td>0.0</td>\n",
       "      <td>0.0</td>\n",
       "      <td>0.0</td>\n",
       "      <td>...</td>\n",
       "      <td>0.0</td>\n",
       "      <td>0.0</td>\n",
       "      <td>0.0</td>\n",
       "      <td>0.0</td>\n",
       "      <td>0.0</td>\n",
       "      <td>0.0</td>\n",
       "      <td>0.0</td>\n",
       "      <td>0.0</td>\n",
       "      <td>1</td>\n",
       "      <td>0.040268</td>\n",
       "    </tr>\n",
       "    <tr>\n",
       "      <th>19999</th>\n",
       "      <td>0.0</td>\n",
       "      <td>0.00000</td>\n",
       "      <td>0.0</td>\n",
       "      <td>0.0</td>\n",
       "      <td>0.0</td>\n",
       "      <td>0.0</td>\n",
       "      <td>0.0</td>\n",
       "      <td>0.0</td>\n",
       "      <td>0.0</td>\n",
       "      <td>0.0</td>\n",
       "      <td>...</td>\n",
       "      <td>0.0</td>\n",
       "      <td>0.0</td>\n",
       "      <td>0.0</td>\n",
       "      <td>0.0</td>\n",
       "      <td>0.0</td>\n",
       "      <td>0.0</td>\n",
       "      <td>0.0</td>\n",
       "      <td>0.0</td>\n",
       "      <td>1</td>\n",
       "      <td>0.086420</td>\n",
       "    </tr>\n",
       "  </tbody>\n",
       "</table>\n",
       "<p>20000 rows × 14603 columns</p>\n",
       "</div>"
      ],
      "text/plain": [
       "         0        1   10  100  1000  101  105  10th   11  110  ...  zombie  \\\n",
       "0      0.0  0.05951  0.0  0.0   0.0  0.0  0.0   0.0  0.0  0.0  ...     0.0   \n",
       "1      0.0  0.00000  0.0  0.0   0.0  0.0  0.0   0.0  0.0  0.0  ...     0.0   \n",
       "2      0.0  0.00000  0.0  0.0   0.0  0.0  0.0   0.0  0.0  0.0  ...     0.0   \n",
       "3      0.0  0.00000  0.0  0.0   0.0  0.0  0.0   0.0  0.0  0.0  ...     0.0   \n",
       "4      0.0  0.00000  0.0  0.0   0.0  0.0  0.0   0.0  0.0  0.0  ...     0.0   \n",
       "...    ...      ...  ...  ...   ...  ...  ...   ...  ...  ...  ...     ...   \n",
       "19995  0.0  0.00000  0.0  0.0   0.0  0.0  0.0   0.0  0.0  0.0  ...     0.0   \n",
       "19996  0.0  0.00000  0.0  0.0   0.0  0.0  0.0   0.0  0.0  0.0  ...     0.0   \n",
       "19997  0.0  0.00000  0.0  0.0   0.0  0.0  0.0   0.0  0.0  0.0  ...     0.0   \n",
       "19998  0.0  0.00000  0.0  0.0   0.0  0.0  0.0   0.0  0.0  0.0  ...     0.0   \n",
       "19999  0.0  0.00000  0.0  0.0   0.0  0.0  0.0   0.0  0.0  0.0  ...     0.0   \n",
       "\n",
       "       zonal  zone  zoo  zoom   zs   zu  zurich  ham_label  invalid_pct  \n",
       "0        0.0   0.0  0.0   0.0  0.0  0.0     0.0          0     0.377622  \n",
       "1        0.0   0.0  0.0   0.0  0.0  0.0     0.0          0     0.033557  \n",
       "2        0.0   0.0  0.0   0.0  0.0  0.0     0.0          0     0.381818  \n",
       "3        0.0   0.0  0.0   0.0  0.0  0.0     0.0          0     0.245283  \n",
       "4        0.0   0.0  0.0   0.0  0.0  0.0     0.0          0     0.101190  \n",
       "...      ...   ...  ...   ...  ...  ...     ...        ...          ...  \n",
       "19995    0.0   0.0  0.0   0.0  0.0  0.0     0.0          1     0.166667  \n",
       "19996    0.0   0.0  0.0   0.0  0.0  0.0     0.0          1     0.349315  \n",
       "19997    0.0   0.0  0.0   0.0  0.0  0.0     0.0          0     0.424354  \n",
       "19998    0.0   0.0  0.0   0.0  0.0  0.0     0.0          1     0.040268  \n",
       "19999    0.0   0.0  0.0   0.0  0.0  0.0     0.0          1     0.086420  \n",
       "\n",
       "[20000 rows x 14603 columns]"
      ]
     },
     "execution_count": 137,
     "metadata": {},
     "output_type": "execute_result"
    }
   ],
   "source": [
    "tfidf_df[\"invalid_pct\"] = cleaned_emails.invalid_pct.values\n",
    "tfidf_df"
   ]
  },
  {
   "cell_type": "code",
   "execution_count": 138,
   "id": "9764e074",
   "metadata": {},
   "outputs": [],
   "source": [
    "classifier2 = LogisticRegression()\n",
    "\n",
    "train_inv, test_inv = train_test_split(tfidf_df, test_size=0.2, random_state=42, stratify=tfidf_df[\"ham_label\"])"
   ]
  },
  {
   "cell_type": "code",
   "execution_count": 139,
   "id": "4fe19ceb",
   "metadata": {},
   "outputs": [],
   "source": [
    "X_train_inv = train_inv.drop(columns=[\"ham_label\"])\n",
    "y_train_inv = train_inv[\"ham_label\"]\n",
    "\n",
    "X_test_inv = test_inv.drop(columns=[\"ham_label\"])\n",
    "y_test_inv = test_inv[\"ham_label\"]"
   ]
  },
  {
   "cell_type": "code",
   "execution_count": 140,
   "id": "caa05798",
   "metadata": {},
   "outputs": [
    {
     "data": {
      "text/html": [
       "<style>#sk-container-id-5 {color: black;}#sk-container-id-5 pre{padding: 0;}#sk-container-id-5 div.sk-toggleable {background-color: white;}#sk-container-id-5 label.sk-toggleable__label {cursor: pointer;display: block;width: 100%;margin-bottom: 0;padding: 0.3em;box-sizing: border-box;text-align: center;}#sk-container-id-5 label.sk-toggleable__label-arrow:before {content: \"▸\";float: left;margin-right: 0.25em;color: #696969;}#sk-container-id-5 label.sk-toggleable__label-arrow:hover:before {color: black;}#sk-container-id-5 div.sk-estimator:hover label.sk-toggleable__label-arrow:before {color: black;}#sk-container-id-5 div.sk-toggleable__content {max-height: 0;max-width: 0;overflow: hidden;text-align: left;background-color: #f0f8ff;}#sk-container-id-5 div.sk-toggleable__content pre {margin: 0.2em;color: black;border-radius: 0.25em;background-color: #f0f8ff;}#sk-container-id-5 input.sk-toggleable__control:checked~div.sk-toggleable__content {max-height: 200px;max-width: 100%;overflow: auto;}#sk-container-id-5 input.sk-toggleable__control:checked~label.sk-toggleable__label-arrow:before {content: \"▾\";}#sk-container-id-5 div.sk-estimator input.sk-toggleable__control:checked~label.sk-toggleable__label {background-color: #d4ebff;}#sk-container-id-5 div.sk-label input.sk-toggleable__control:checked~label.sk-toggleable__label {background-color: #d4ebff;}#sk-container-id-5 input.sk-hidden--visually {border: 0;clip: rect(1px 1px 1px 1px);clip: rect(1px, 1px, 1px, 1px);height: 1px;margin: -1px;overflow: hidden;padding: 0;position: absolute;width: 1px;}#sk-container-id-5 div.sk-estimator {font-family: monospace;background-color: #f0f8ff;border: 1px dotted black;border-radius: 0.25em;box-sizing: border-box;margin-bottom: 0.5em;}#sk-container-id-5 div.sk-estimator:hover {background-color: #d4ebff;}#sk-container-id-5 div.sk-parallel-item::after {content: \"\";width: 100%;border-bottom: 1px solid gray;flex-grow: 1;}#sk-container-id-5 div.sk-label:hover label.sk-toggleable__label {background-color: #d4ebff;}#sk-container-id-5 div.sk-serial::before {content: \"\";position: absolute;border-left: 1px solid gray;box-sizing: border-box;top: 0;bottom: 0;left: 50%;z-index: 0;}#sk-container-id-5 div.sk-serial {display: flex;flex-direction: column;align-items: center;background-color: white;padding-right: 0.2em;padding-left: 0.2em;position: relative;}#sk-container-id-5 div.sk-item {position: relative;z-index: 1;}#sk-container-id-5 div.sk-parallel {display: flex;align-items: stretch;justify-content: center;background-color: white;position: relative;}#sk-container-id-5 div.sk-item::before, #sk-container-id-5 div.sk-parallel-item::before {content: \"\";position: absolute;border-left: 1px solid gray;box-sizing: border-box;top: 0;bottom: 0;left: 50%;z-index: -1;}#sk-container-id-5 div.sk-parallel-item {display: flex;flex-direction: column;z-index: 1;position: relative;background-color: white;}#sk-container-id-5 div.sk-parallel-item:first-child::after {align-self: flex-end;width: 50%;}#sk-container-id-5 div.sk-parallel-item:last-child::after {align-self: flex-start;width: 50%;}#sk-container-id-5 div.sk-parallel-item:only-child::after {width: 0;}#sk-container-id-5 div.sk-dashed-wrapped {border: 1px dashed gray;margin: 0 0.4em 0.5em 0.4em;box-sizing: border-box;padding-bottom: 0.4em;background-color: white;}#sk-container-id-5 div.sk-label label {font-family: monospace;font-weight: bold;display: inline-block;line-height: 1.2em;}#sk-container-id-5 div.sk-label-container {text-align: center;}#sk-container-id-5 div.sk-container {/* jupyter's `normalize.less` sets `[hidden] { display: none; }` but bootstrap.min.css set `[hidden] { display: none !important; }` so we also need the `!important` here to be able to override the default hidden behavior on the sphinx rendered scikit-learn.org. See: https://github.com/scikit-learn/scikit-learn/issues/21755 */display: inline-block !important;position: relative;}#sk-container-id-5 div.sk-text-repr-fallback {display: none;}</style><div id=\"sk-container-id-5\" class=\"sk-top-container\"><div class=\"sk-text-repr-fallback\"><pre>LogisticRegression()</pre><b>In a Jupyter environment, please rerun this cell to show the HTML representation or trust the notebook. <br />On GitHub, the HTML representation is unable to render, please try loading this page with nbviewer.org.</b></div><div class=\"sk-container\" hidden><div class=\"sk-item\"><div class=\"sk-estimator sk-toggleable\"><input class=\"sk-toggleable__control sk-hidden--visually\" id=\"sk-estimator-id-5\" type=\"checkbox\" checked><label for=\"sk-estimator-id-5\" class=\"sk-toggleable__label sk-toggleable__label-arrow\">LogisticRegression</label><div class=\"sk-toggleable__content\"><pre>LogisticRegression()</pre></div></div></div></div></div>"
      ],
      "text/plain": [
       "LogisticRegression()"
      ]
     },
     "execution_count": 140,
     "metadata": {},
     "output_type": "execute_result"
    }
   ],
   "source": [
    "classifier2.fit(X_train_inv, y_train_inv)"
   ]
  },
  {
   "cell_type": "code",
   "execution_count": 142,
   "id": "24267e77",
   "metadata": {},
   "outputs": [],
   "source": [
    "predicted_inv = classifier2.predict(X_test_inv)"
   ]
  },
  {
   "cell_type": "code",
   "execution_count": 143,
   "id": "3d44e043",
   "metadata": {},
   "outputs": [
    {
     "data": {
      "text/plain": [
       "0.94925"
      ]
     },
     "execution_count": 143,
     "metadata": {},
     "output_type": "execute_result"
    }
   ],
   "source": [
    "metrics.accuracy_score(y_test_inv, predicted_inv)"
   ]
  },
  {
   "cell_type": "code",
   "execution_count": 144,
   "id": "d6e52268",
   "metadata": {},
   "outputs": [
    {
     "data": {
      "text/plain": [
       "0.9393939393939394"
      ]
     },
     "execution_count": 144,
     "metadata": {},
     "output_type": "execute_result"
    }
   ],
   "source": [
    "metrics.precision_score(y_test_inv, predicted_inv)"
   ]
  },
  {
   "cell_type": "code",
   "execution_count": 145,
   "id": "c5c345d3",
   "metadata": {},
   "outputs": [
    {
     "data": {
      "text/plain": [
       "0.9555903866248694"
      ]
     },
     "execution_count": 145,
     "metadata": {},
     "output_type": "execute_result"
    }
   ],
   "source": [
    "metrics.recall_score(y_test_inv, predicted_inv)"
   ]
  },
  {
   "cell_type": "markdown",
   "id": "a4bf716a",
   "metadata": {},
   "source": [
    "Our results are very similar to the model without using invalid word rates, with only a very slight increase in accuracy and precision, but a slight decrease in recall. The heatmap shows that the two models are very similar in performance."
   ]
  },
  {
   "cell_type": "code",
   "execution_count": 146,
   "id": "6010d7fa",
   "metadata": {},
   "outputs": [
    {
     "data": {
      "image/png": "[encoded data removed]",
      "text/plain": [
       "<Figure size 640x480 with 2 Axes>"
      ]
     },
     "metadata": {},
     "output_type": "display_data"
    }
   ],
   "source": [
    "cm = metrics.confusion_matrix(y_test_inv, predicted_inv)\n",
    "sns.heatmap(cm, annot=True, fmt='d', cmap = sns.color_palette(\"coolwarm\", 20), xticklabels=[\"Ham\", \"Spam\"], yticklabels=[\"Ham\", \"Spam\"])\n",
    "plt.title('Email Classification Confusion Matrix\\n(including invalid word rates)')\n",
    "plt.xlabel('PREDICTED')\n",
    "plt.ylabel('ACTUAL')\n",
    "plt.show()"
   ]
  },
  {
   "cell_type": "markdown",
   "id": "e8adcbeb",
   "metadata": {},
   "source": [
    "We again aim to get the 25 best words for indicating ham and spam."
   ]
  },
  {
   "cell_type": "code",
   "execution_count": 147,
   "id": "08c9df4e",
   "metadata": {
    "scrolled": false
   },
   "outputs": [
    {
     "data": {
      "text/html": [
       "<div>\n",
       "<style scoped>\n",
       "    .dataframe tbody tr th:only-of-type {\n",
       "        vertical-align: middle;\n",
       "    }\n",
       "\n",
       "    .dataframe tbody tr th {\n",
       "        vertical-align: top;\n",
       "    }\n",
       "\n",
       "    .dataframe thead th {\n",
       "        text-align: right;\n",
       "    }\n",
       "</style>\n",
       "<table border=\"1\" class=\"dataframe\">\n",
       "  <thead>\n",
       "    <tr style=\"text-align: right;\">\n",
       "      <th></th>\n",
       "      <th>coefficients</th>\n",
       "      <th>word</th>\n",
       "    </tr>\n",
       "  </thead>\n",
       "  <tbody>\n",
       "    <tr>\n",
       "      <th>0</th>\n",
       "      <td>0.514852</td>\n",
       "      <td>0</td>\n",
       "    </tr>\n",
       "    <tr>\n",
       "      <th>1</th>\n",
       "      <td>-0.482971</td>\n",
       "      <td>1</td>\n",
       "    </tr>\n",
       "    <tr>\n",
       "      <th>2</th>\n",
       "      <td>-0.607172</td>\n",
       "      <td>10</td>\n",
       "    </tr>\n",
       "    <tr>\n",
       "      <th>3</th>\n",
       "      <td>0.776932</td>\n",
       "      <td>100</td>\n",
       "    </tr>\n",
       "    <tr>\n",
       "      <th>4</th>\n",
       "      <td>0.251322</td>\n",
       "      <td>1000</td>\n",
       "    </tr>\n",
       "    <tr>\n",
       "      <th>...</th>\n",
       "      <td>...</td>\n",
       "      <td>...</td>\n",
       "    </tr>\n",
       "    <tr>\n",
       "      <th>14597</th>\n",
       "      <td>0.154439</td>\n",
       "      <td>zoom</td>\n",
       "    </tr>\n",
       "    <tr>\n",
       "      <th>14598</th>\n",
       "      <td>0.213791</td>\n",
       "      <td>zs</td>\n",
       "    </tr>\n",
       "    <tr>\n",
       "      <th>14599</th>\n",
       "      <td>0.415764</td>\n",
       "      <td>zu</td>\n",
       "    </tr>\n",
       "    <tr>\n",
       "      <th>14600</th>\n",
       "      <td>-0.005588</td>\n",
       "      <td>zurich</td>\n",
       "    </tr>\n",
       "    <tr>\n",
       "      <th>14601</th>\n",
       "      <td>1.781611</td>\n",
       "      <td>invalid_pct</td>\n",
       "    </tr>\n",
       "  </tbody>\n",
       "</table>\n",
       "<p>14602 rows × 2 columns</p>\n",
       "</div>"
      ],
      "text/plain": [
       "       coefficients         word\n",
       "0          0.514852            0\n",
       "1         -0.482971            1\n",
       "2         -0.607172           10\n",
       "3          0.776932          100\n",
       "4          0.251322         1000\n",
       "...             ...          ...\n",
       "14597      0.154439         zoom\n",
       "14598      0.213791           zs\n",
       "14599      0.415764           zu\n",
       "14600     -0.005588       zurich\n",
       "14601      1.781611  invalid_pct\n",
       "\n",
       "[14602 rows x 2 columns]"
      ]
     },
     "execution_count": 147,
     "metadata": {},
     "output_type": "execute_result"
    }
   ],
   "source": [
    "vocab.append(\"invalid_pct\")\n",
    "coefficients_inv = pd.DataFrame({'coefficients':list(classifier2.coef_.flatten()), 'word': vocab})\n",
    "coefficients_inv"
   ]
  },
  {
   "cell_type": "code",
   "execution_count": 148,
   "id": "510c7cd1",
   "metadata": {},
   "outputs": [],
   "source": [
    "# Get the 25 most influential negative coefficients\n",
    "lowest_inv = coefficients_inv.sort_values(by='coefficients').head(25).reset_index(drop=True)\n",
    "lowest_inv.columns = [\"coefficient_low\", \"ham_indicator\"]\n",
    "\n",
    "# Get the 25 most influential positive coefficients\n",
    "highest_inv = coefficients_inv.sort_values(by='coefficients', ascending=False).head(25).reset_index(drop=True)\n",
    "highest_inv.columns = [\"coefficient_high\", \"spam_indicator\"]\n",
    "\n",
    "# Combine the negative and positive coefficients into one dataframe\n",
    "most_important_words_inv = pd.concat([lowest_inv, highest_inv], axis=1)"
   ]
  },
  {
   "cell_type": "code",
   "execution_count": 149,
   "id": "07e1e7d5",
   "metadata": {},
   "outputs": [
    {
     "data": {
      "text/html": [
       "<div>\n",
       "<style scoped>\n",
       "    .dataframe tbody tr th:only-of-type {\n",
       "        vertical-align: middle;\n",
       "    }\n",
       "\n",
       "    .dataframe tbody tr th {\n",
       "        vertical-align: top;\n",
       "    }\n",
       "\n",
       "    .dataframe thead th {\n",
       "        text-align: right;\n",
       "    }\n",
       "</style>\n",
       "<table border=\"1\" class=\"dataframe\">\n",
       "  <thead>\n",
       "    <tr style=\"text-align: right;\">\n",
       "      <th></th>\n",
       "      <th>coefficient_low</th>\n",
       "      <th>ham_indicator</th>\n",
       "      <th>coefficient_high</th>\n",
       "      <th>spam_indicator</th>\n",
       "    </tr>\n",
       "  </thead>\n",
       "  <tbody>\n",
       "    <tr>\n",
       "      <th>0</th>\n",
       "      <td>-5.232343</td>\n",
       "      <td>thank</td>\n",
       "      <td>3.321853</td>\n",
       "      <td>product</td>\n",
       "    </tr>\n",
       "    <tr>\n",
       "      <th>1</th>\n",
       "      <td>-4.911143</td>\n",
       "      <td>subject</td>\n",
       "      <td>3.015878</td>\n",
       "      <td>save</td>\n",
       "    </tr>\n",
       "    <tr>\n",
       "      <th>2</th>\n",
       "      <td>-4.777585</td>\n",
       "      <td>samba</td>\n",
       "      <td>3.009436</td>\n",
       "      <td>target</td>\n",
       "    </tr>\n",
       "    <tr>\n",
       "      <th>3</th>\n",
       "      <td>-4.219035</td>\n",
       "      <td>attach</td>\n",
       "      <td>2.968754</td>\n",
       "      <td>money</td>\n",
       "    </tr>\n",
       "    <tr>\n",
       "      <th>4</th>\n",
       "      <td>-4.052739</td>\n",
       "      <td>question</td>\n",
       "      <td>2.944193</td>\n",
       "      <td>offer</td>\n",
       "    </tr>\n",
       "    <tr>\n",
       "      <th>5</th>\n",
       "      <td>-3.893255</td>\n",
       "      <td>pm</td>\n",
       "      <td>2.933500</td>\n",
       "      <td>remove</td>\n",
       "    </tr>\n",
       "    <tr>\n",
       "      <th>6</th>\n",
       "      <td>-3.887827</td>\n",
       "      <td>comment</td>\n",
       "      <td>2.859142</td>\n",
       "      <td>http</td>\n",
       "    </tr>\n",
       "    <tr>\n",
       "      <th>7</th>\n",
       "      <td>-3.856273</td>\n",
       "      <td>houston</td>\n",
       "      <td>2.780172</td>\n",
       "      <td>account</td>\n",
       "    </tr>\n",
       "    <tr>\n",
       "      <th>8</th>\n",
       "      <td>-3.705802</td>\n",
       "      <td>fax</td>\n",
       "      <td>2.664695</td>\n",
       "      <td>hot</td>\n",
       "    </tr>\n",
       "    <tr>\n",
       "      <th>9</th>\n",
       "      <td>-3.478917</td>\n",
       "      <td>corp</td>\n",
       "      <td>2.544347</td>\n",
       "      <td>info</td>\n",
       "    </tr>\n",
       "    <tr>\n",
       "      <th>10</th>\n",
       "      <td>-3.413482</td>\n",
       "      <td>original</td>\n",
       "      <td>2.514780</td>\n",
       "      <td>quality</td>\n",
       "    </tr>\n",
       "    <tr>\n",
       "      <th>11</th>\n",
       "      <td>-3.305456</td>\n",
       "      <td>change</td>\n",
       "      <td>2.500825</td>\n",
       "      <td>software</td>\n",
       "    </tr>\n",
       "    <tr>\n",
       "      <th>12</th>\n",
       "      <td>-3.127167</td>\n",
       "      <td>send</td>\n",
       "      <td>2.483796</td>\n",
       "      <td>price</td>\n",
       "    </tr>\n",
       "    <tr>\n",
       "      <th>13</th>\n",
       "      <td>-3.123321</td>\n",
       "      <td>gas</td>\n",
       "      <td>2.412583</td>\n",
       "      <td>pill</td>\n",
       "    </tr>\n",
       "    <tr>\n",
       "      <th>14</th>\n",
       "      <td>-3.070328</td>\n",
       "      <td>october</td>\n",
       "      <td>2.384724</td>\n",
       "      <td>life</td>\n",
       "    </tr>\n",
       "    <tr>\n",
       "      <th>15</th>\n",
       "      <td>-3.041916</td>\n",
       "      <td>meeting</td>\n",
       "      <td>2.374477</td>\n",
       "      <td>girl</td>\n",
       "    </tr>\n",
       "    <tr>\n",
       "      <th>16</th>\n",
       "      <td>-3.026120</td>\n",
       "      <td>beginner</td>\n",
       "      <td>2.364720</td>\n",
       "      <td>loan</td>\n",
       "    </tr>\n",
       "    <tr>\n",
       "      <th>17</th>\n",
       "      <td>-3.010965</td>\n",
       "      <td>file</td>\n",
       "      <td>2.307541</td>\n",
       "      <td>statement</td>\n",
       "    </tr>\n",
       "    <tr>\n",
       "      <th>18</th>\n",
       "      <td>-2.988946</td>\n",
       "      <td>wednesday</td>\n",
       "      <td>2.281155</td>\n",
       "      <td>dear</td>\n",
       "    </tr>\n",
       "    <tr>\n",
       "      <th>19</th>\n",
       "      <td>-2.987946</td>\n",
       "      <td>list</td>\n",
       "      <td>2.277652</td>\n",
       "      <td>medication</td>\n",
       "    </tr>\n",
       "    <tr>\n",
       "      <th>20</th>\n",
       "      <td>-2.969954</td>\n",
       "      <td>tuesday</td>\n",
       "      <td>2.194912</td>\n",
       "      <td>site</td>\n",
       "    </tr>\n",
       "    <tr>\n",
       "      <th>21</th>\n",
       "      <td>-2.959086</td>\n",
       "      <td>think</td>\n",
       "      <td>2.171451</td>\n",
       "      <td>thousand</td>\n",
       "    </tr>\n",
       "    <tr>\n",
       "      <th>22</th>\n",
       "      <td>-2.957131</td>\n",
       "      <td>story</td>\n",
       "      <td>2.143253</td>\n",
       "      <td>viagra</td>\n",
       "    </tr>\n",
       "    <tr>\n",
       "      <th>23</th>\n",
       "      <td>-2.935747</td>\n",
       "      <td>employee</td>\n",
       "      <td>2.124481</td>\n",
       "      <td>visit</td>\n",
       "    </tr>\n",
       "    <tr>\n",
       "      <th>24</th>\n",
       "      <td>-2.892954</td>\n",
       "      <td>friday</td>\n",
       "      <td>2.120576</td>\n",
       "      <td>professional</td>\n",
       "    </tr>\n",
       "  </tbody>\n",
       "</table>\n",
       "</div>"
      ],
      "text/plain": [
       "    coefficient_low ham_indicator  coefficient_high spam_indicator\n",
       "0         -5.232343         thank          3.321853        product\n",
       "1         -4.911143       subject          3.015878           save\n",
       "2         -4.777585         samba          3.009436         target\n",
       "3         -4.219035        attach          2.968754          money\n",
       "4         -4.052739      question          2.944193          offer\n",
       "5         -3.893255            pm          2.933500         remove\n",
       "6         -3.887827       comment          2.859142           http\n",
       "7         -3.856273       houston          2.780172        account\n",
       "8         -3.705802           fax          2.664695            hot\n",
       "9         -3.478917          corp          2.544347           info\n",
       "10        -3.413482      original          2.514780        quality\n",
       "11        -3.305456        change          2.500825       software\n",
       "12        -3.127167          send          2.483796          price\n",
       "13        -3.123321           gas          2.412583           pill\n",
       "14        -3.070328       october          2.384724           life\n",
       "15        -3.041916       meeting          2.374477           girl\n",
       "16        -3.026120      beginner          2.364720           loan\n",
       "17        -3.010965          file          2.307541      statement\n",
       "18        -2.988946     wednesday          2.281155           dear\n",
       "19        -2.987946          list          2.277652     medication\n",
       "20        -2.969954       tuesday          2.194912           site\n",
       "21        -2.959086         think          2.171451       thousand\n",
       "22        -2.957131         story          2.143253         viagra\n",
       "23        -2.935747      employee          2.124481          visit\n",
       "24        -2.892954        friday          2.120576   professional"
      ]
     },
     "execution_count": 149,
     "metadata": {},
     "output_type": "execute_result"
    }
   ],
   "source": [
    "most_important_words_inv"
   ]
  },
  {
   "cell_type": "markdown",
   "id": "ac076c66",
   "metadata": {},
   "source": [
    "This time, we also want to see how influential our invalid_pct variable is."
   ]
  },
  {
   "cell_type": "code",
   "execution_count": 150,
   "id": "88a152ca",
   "metadata": {
    "scrolled": true
   },
   "outputs": [
    {
     "data": {
      "text/html": [
       "<div>\n",
       "<style scoped>\n",
       "    .dataframe tbody tr th:only-of-type {\n",
       "        vertical-align: middle;\n",
       "    }\n",
       "\n",
       "    .dataframe tbody tr th {\n",
       "        vertical-align: top;\n",
       "    }\n",
       "\n",
       "    .dataframe thead th {\n",
       "        text-align: right;\n",
       "    }\n",
       "</style>\n",
       "<table border=\"1\" class=\"dataframe\">\n",
       "  <thead>\n",
       "    <tr style=\"text-align: right;\">\n",
       "      <th></th>\n",
       "      <th>coefficients</th>\n",
       "      <th>word</th>\n",
       "    </tr>\n",
       "  </thead>\n",
       "  <tbody>\n",
       "    <tr>\n",
       "      <th>14601</th>\n",
       "      <td>1.781611</td>\n",
       "      <td>invalid_pct</td>\n",
       "    </tr>\n",
       "  </tbody>\n",
       "</table>\n",
       "</div>"
      ],
      "text/plain": [
       "       coefficients         word\n",
       "14601      1.781611  invalid_pct"
      ]
     },
     "execution_count": 150,
     "metadata": {},
     "output_type": "execute_result"
    }
   ],
   "source": [
    "coefficients_inv[coefficients_inv[\"word\"] == \"invalid_pct\"]"
   ]
  },
  {
   "cell_type": "markdown",
   "id": "9eaa7b2b",
   "metadata": {},
   "source": [
    "#### Conclusion 2"
   ]
  },
  {
   "cell_type": "markdown",
   "id": "f6776392",
   "metadata": {},
   "source": [
    "Given the results of this new model, we can see that invalid_pct is indeed indicative of spam, and carries a relatively positive coefficient. However, the performance of the model is very similar. Therefore, our second hypothesis was half right: invalid word percentage _is_ indicative of spam emails, but including it as a feature does _not_ noticeably improve the model."
   ]
  },
  {
   "cell_type": "markdown",
   "id": "16860181",
   "metadata": {},
   "source": [
    "### References"
   ]
  },
  {
   "cell_type": "markdown",
   "id": "345b4c8a",
   "metadata": {},
   "source": [
    "1. https://www.britannica.com/topic/spam\n",
    "2. https://www.cnbc.com/2023/11/28/ai-like-chatgpt-is-creating-huge-increase-in-malicious-phishing-email.html\n",
    "3. https://wordnet.princeton.edu/\n",
    "4. https://github.com/nltk/nltk_data/blob/gh-pages/packages/corpora/words.xml\n",
    "5. https://kavita-ganesan.com/what-are-stop-words/"
   ]
  }
 ],
 "metadata": {
  "kernelspec": {
   "display_name": "Python 3 (ipykernel)",
   "language": "python",
   "name": "python3"
  },
  "language_info": {
   "codemirror_mode": {
    "name": "ipython",
    "version": 3
   },
   "file_extension": ".py",
   "mimetype": "text/x-python",
   "name": "python",
   "nbconvert_exporter": "python",
   "pygments_lexer": "ipython3",
   "version": "3.9.18"
  }
 },
 "nbformat": 4,
 "nbformat_minor": 5
}
